{
 "cells": [
  {
   "cell_type": "code",
   "execution_count": 4,
   "metadata": {
    "deleteable": false,
    "editable": false,
    "init_cell": true,
    "tags": []
   },
   "outputs": [
    {
     "name": "stdout",
     "output_type": "stream",
     "text": [
      "The autoreload extension is already loaded. To reload it, use:\n",
      "  %reload_ext autoreload\n"
     ]
    }
   ],
   "source": [
    "# Please click this cell and press shift-return/enter everytime you open this Notebook! \n",
    "%load_ext autoreload\n",
    "%autoreload 2\n",
    "from notebook import * "
   ]
  },
  {
   "cell_type": "markdown",
   "metadata": {
    "cs203.is_response": true,
    "deletable": false,
    "editable": true
   },
   "source": [
    "<div class=\"namebox\">    \n",
    "\n",
    "\n",
    "1.  Aparna Mohan\n",
    "2.  862396080\n",
    "3.  amoha121@ucr.edu\n",
    "    \n",
    "</div>"
   ]
  },
  {
   "cell_type": "markdown",
   "metadata": {
    "deletable": false,
    "editable": false,
    "tags": []
   },
   "source": [
    "<div style=\" font-size: 300% !important;\n",
    "    margin-top: 1.5em;\n",
    "    margin-bottom: 10px;\n",
    "    font-weight: bold;\n",
    "    line-height: 1.0;\n",
    "    text-align:center;\">\n",
    "Assignment 0: Welcome to CS203 and Get Familiar with JupyterHub!\n",
    "</div>"
   ]
  },
  {
   "cell_type": "markdown",
   "metadata": {
    "deletable": false,
    "editable": false,
    "tags": []
   },
   "source": [
    "**Welcome to the first assignment of CS203!**\n",
    "\n",
    "The main goals of this assignment are:\n",
    "\n",
    "1. To get you set up the environment for CS203 assignments\n",
    "    1. Github\n",
    "    2. Github Classroom\n",
    "    3. CS203's Jupyterhub cluster\n",
    "    4. Jupyter Notebook and basic data analytics\n",
    "    5. Review of C programming\n",
    "\n",
    "This assignment should be completed **on your own**. **Any type collaboration is prohibited**\n",
    "\n",
    "Check Gradescope for due date(s)."
   ]
  },
  {
   "cell_type": "markdown",
   "metadata": {
    "editable": false
   },
   "source": [
    "# FAQ and Updates\n",
    "\n",
    "* There are no updates, yet."
   ]
  },
  {
   "cell_type": "markdown",
   "metadata": {
    "deleteable": false,
    "editable": false,
    "tags": []
   },
   "source": [
    "# Browser Compatibility"
   ]
  },
  {
   "cell_type": "markdown",
   "metadata": {
    "deleteable": false,
    "editable": false,
    "tags": []
   },
   "source": [
    "We are still working out some bugs in some browsers.  Here's the current status:\n",
    "\n",
    "1.  Chrome -- well tested.  Preferred option.\n",
    "2.  Firefox -- seems ok, but not thoroughly tested.\n",
    "3.  Edge -- seems ok, but not thoroughly tested.\n",
    "4.  Safari -- not supported at the moment.\n",
    "5.  Internet Explorer -- not supported at the moment.\n",
    "\n",
    "At the moment, the authentication step must be done in Chrome."
   ]
  },
  {
   "cell_type": "markdown",
   "metadata": {
    "deleteable": false,
    "editable": false,
    "tags": []
   },
   "source": [
    "# About Assignments In This Class"
   ]
  },
  {
   "cell_type": "markdown",
   "metadata": {
    "deleteable": false,
    "editable": false,
    "tags": []
   },
   "source": [
    "_This section is the same in all the assignments.  It's repeated here for your reference._\n",
    "\n",
    "Assignments are a way to **learn by doing**.  This means you _must_ **do**.  We have built these assignments as Jupyter notebooks so that the \"doing\" is as easy and seamless as possible (Mainly contributed by Steven Swanson at UCSD https://cseweb.ucsd.edu/~swanson/).\n",
    "\n",
    "In this assignment, what you'll do is answer questions about how a program will run and then compare what really happened to your predictions.  Engaging with this process is how you'll learn.  The questions that the assignment asks are there for several purposes:\n",
    "\n",
    "1.  To draw your attention to specific aspects of an experiment or of some results.\n",
    "2.  To push you to engage with the material more deeply by thinking about it.\n",
    "3.  To make you commit to a prediction so you can wonder why your prediction was wrong or be proud that you got it right.\n",
    "4.  To provide some practice with skills/concepts you're learning in this course.\n",
    "5.  To test your knowledge about what you've learned.\n",
    "\n",
    "The questions are graded in one of three ways:\n",
    "\n",
    "1. \"Correctness\" questions require you to answer the question and get the correct answer to get full credit.\n",
    "2. \"Completeness\" questions require you to answer the question.\n",
    "3. \"Optional\" questions are...optional.  They are there if you want to go further with the material.\n",
    "\n",
    "Some of the \"Completeness\" problems include a solution that will be hidden until you click \"Show Solution\".  To get the most from them, try them on your own first.\n",
    "\n",
    "Many of the \"Completeness\" questions ask you to make predictions about the outcome of an experiment and write down those predictions.  To maximize your learning, think carefully about your prediction and commit to it.  **You will never be penalized for making an incorrect prediction.**\n",
    "\n",
    "You are free to discuss \"Completeness\" and \"Optional\" questions with your classmates.  You must complete \"Correctness\" questions on your own.\n",
    "\n",
    "If you have questions about any kind of question, please ask during office hours or during class."
   ]
  },
  {
   "attachments": {
    "image.png": {
     "image/png": "[encoded data removed]"
    }
   },
   "cell_type": "markdown",
   "metadata": {
    "deleteable": false,
    "editable": false,
    "tags": []
   },
   "source": [
    "## How To Succeed On the Assignments\n",
    "\n",
    "Here are some simple tips that will help you do well on this assignment:\n",
    "\n",
    "1.  Read/skim through the entire assignment and review the lecture/textbook. \n",
    "2.  Start early.  Getting answers on piazza can take time.  So think through the questions (and your questions about them) carefully.\n",
    "    1. Go through the assignment once (several days before the deadline), do the parts that are easy/make sense\n",
    "    2. Ask questions/think about the rest\n",
    "    3. Come back and do the rest.\n",
    "3.  Start early.  The cluster gets busy and slow near deadlines.  **\"The cluster was slow the night of the deadline\"** is **not an excuse** for not getting the assignment done and it is not justification for asking for an extension.\n",
    "4.  Follow the guidelines below for asking answerable questions on piazza.\n",
    "\n",
    "You may think to yourself: \"If I start early enough to account for all that, I'd have to start right after the assignment was announced!\"  Good thought!\n",
    "\n",
    "![image.png](attachment:image.png)\n"
   ]
  },
  {
   "cell_type": "markdown",
   "metadata": {
    "deleteable": false,
    "editable": false,
    "tags": []
   },
   "source": [
    "<div class=\"alert alert-block alert-danger\">\n",
    "\n",
    "**The Cluster Will Get Slow** and our machines will get crowded and slow _before every deadline_.  This is completely predictable.  The cluster can also get crowded due to deadlines in other courses.  You need to start early so you can avoid/work around these slowdowns.  Unless there's some kind of complete outage, we will not grant extensions because the servers are crowded.\n",
    "    \n",
    "</div>"
   ]
  },
  {
   "cell_type": "markdown",
   "metadata": {
    "deleteable": false,
    "editable": false,
    "tags": []
   },
   "source": [
    "## Getting Help\n",
    "\n",
    "You might run into trouble while doing this assignment.  Here's how to get help:\n",
    "\n",
    "1.  Re-read the instructions and make sure you've followed them.\n",
    "2.  Try saving and reloading the notebook.\n",
    "3.  If it says you are not authenticated, go to the [the login section of the assignment](#Logging-In-To-the-Course-Tools) and (re)authenticate.\n",
    "4.  If you get a `FileNotFoundError` make sure you've run all the code cells above your current point in the assignment.\n",
    "4.  If you get an exception or stack dump, check that you didn't accidentally modify the contents of one of the python cells.\n",
    "5.  If all else fails, post a question to edstem/piazza.\n",
    "\n",
    "## Posting Answerable Questions on Piazza\n",
    "\n",
    "If you want useful answers on piazza, you need to provide information that is specific enough for us to provide a useful answer.  Here's what we need:\n",
    "\n",
    "1.  Which part of which assignment are you working on (use the section numbers)?\n",
    "2.  Which problem (copy and paste the _text_ of the question along with the number).\n",
    "\n",
    "If it's question about instructions:\n",
    "\n",
    "1.  Try to be as specific as you can about what is confusing or what you don't understand (e.g., \"I'm not sure if I should do _X_ or _Y_.\")\n",
    "\n",
    "If it's a question about an error while running code, then we need:\n",
    "\n",
    "1.  If you've committed anything, your github repo url.\n",
    "2.  If you've submitted a job with `cs203` you _must_ provide the job id.  With the id, we can figure out just about anything about your job.  Without it, we know nothing.\n",
    "3.  The _entire_ output you received.  There's no limit on how long an piazza post can be.  Give us all the information, not just the last few lines.  We like to scroll!\n",
    "\n",
    "For all of the above **paste the text** into the edstem/piazza question.  Please **do not provide screen captures**.  The course staff refuses to type in job ids found in screen shots.\n",
    "\n",
    "\n",
    "<div class=\"alert alert-block alert-danger\">\n",
    "\n",
    "**We Can't Answer Unanswerable Questions** If you don't follow these guidelines (especially about the github repo and the job id), we will probably not be able to answer your question on edstem/piazza.  We will archive it and ask you to re-post your question with the information we need.\n",
    "    \n",
    "</div>"
   ]
  },
  {
   "cell_type": "markdown",
   "metadata": {
    "deleteable": false,
    "editable": false,
    "tags": []
   },
   "source": [
    "## Keeping Your Assignment Up-to-Date\n",
    "\n",
    "Occasionally, there will be changes made to the base repository after the\n",
    "assignment is released.  This may include bug fixes and updates to this document.  We'll post on piazza/edstem when an update is avaiassignmentle.\n",
    "\n",
    "In those cases, you can use the following commands to pull the changes from upstream and merge them into your code.  You'll need to do this at a shell.  It won't work properly in the notebook.  Save your notebook in the browser first.\n"
   ]
  },
  {
   "cell_type": "markdown",
   "metadata": {
    "deleteable": false,
    "editable": false,
    "tags": []
   },
   "source": [
    "```\n",
    "cd <your directory for this assignment>git remote add upstream $(cat .starter_repo)  # You need to do this once each time you checkout a new assignment. It will fail \n",
    "                                              # harmlessly if you run it more than once.\n",
    "cp Assignment.ipynb Assignment.backup.ipynb                 # Backup your work.\n",
    "git commit -am \"My progress so far.\"          # commit your work.\n",
    "git pull upstream main --allow-unrelated-histories -X theirs # pull the updates\n",
    "```\n",
    "\n",
    "Or you can use the script we provide:\n",
    "\n",
    "```\n",
    "./pull-updates\n",
    "```\n"
   ]
  },
  {
   "cell_type": "markdown",
   "metadata": {
    "deleteable": false,
    "editable": false,
    "tags": []
   },
   "source": [
    "Then, reload this page in your browser."
   ]
  },
  {
   "cell_type": "markdown",
   "metadata": {
    "deleteable": false,
    "editable": false,
    "tags": []
   },
   "source": [
    "## How To Use This Document\n",
    "\n",
    "You will use Jupyter Notebook to complete this assignment.  You should be able to do much of this assignment without leaving Jupyter Notebook.  The main exception will be some of the programming assignments.  The instructions will make it clear when you should use the terminal.\n",
    "\n",
    "### Running Code\n",
    "\n",
    "Jupyter Notebooks are made up of \"cells\".  Some have Markdown-formatted text in them (like this one).  Some have Python code (like the one below).\n",
    "\n",
    "For code cells, you press `shift-return` to execute the code.  Try it below:"
   ]
  },
  {
   "cell_type": "code",
   "execution_count": 5,
   "metadata": {
    "deleteable": false,
    "editable": false,
    "tags": []
   },
   "outputs": [
    {
     "name": "stdout",
     "output_type": "stream",
     "text": [
      "I'm in python\n"
     ]
    }
   ],
   "source": [
    "print(\"I'm in python\")"
   ]
  },
  {
   "cell_type": "markdown",
   "metadata": {
    "deleteable": false,
    "editable": false,
    "tags": []
   },
   "source": [
    "Code cells can also execute shell commands using the `!` operator.  Try it below:"
   ]
  },
  {
   "cell_type": "code",
   "execution_count": 6,
   "metadata": {
    "deleteable": false,
    "editable": false,
    "tags": []
   },
   "outputs": [
    {
     "name": "stdout",
     "output_type": "stream",
     "text": [
      "I'm in a shell\n"
     ]
    }
   ],
   "source": [
    "!echo \"I'm in a shell\""
   ]
  },
  {
   "attachments": {
    "image.png": {
     "image/png": "[encoded data removed]"
    }
   },
   "cell_type": "markdown",
   "metadata": {
    "deleteable": false,
    "editable": false,
    "tags": []
   },
   "source": [
    "### Telling What The Notebook is Doing\n",
    "\n",
    "The notebook will only run one cell at a time, so if you press `shift-return` several times, the cells will wait for one another.  You can tell that a cell is waiting if it there's a `*` in the `[]` to the left the cell:\n",
    "\n",
    "![image.png](attachment:image.png)\n"
   ]
  },
  {
   "attachments": {
    "image.png": {
     "image/png": "[encoded data removed]"
    }
   },
   "cell_type": "markdown",
   "metadata": {
    "deleteable": false,
    "editable": false,
    "tags": []
   },
   "source": [
    "You'll can also tell _where_ the notebook is executing by looking at the table of contents on the left.  The section with the currently-executing cell will be red:\n",
    "\n",
    "![image.png](attachment:image.png)"
   ]
  },
  {
   "attachments": {
    "image.png": {
     "image/png": "[encoded data removed]"
    }
   },
   "cell_type": "markdown",
   "metadata": {
    "deleteable": false,
    "editable": false,
    "tags": []
   },
   "source": [
    "### What to Do Jupyter Notebook It Gets Stuck\n",
    "\n",
    "First, check if it's actually stuck: Some of the cells take a while, but they will usually provide some visual sign of progress.  If _nothing_ is happening for more than 10 seconds, it's probably stuck.\n",
    "\n",
    "To get it unstuck, you stop execution of the current cell with the \"interrupt button\":\n",
    "\n",
    "![image.png](attachment:image.png)"
   ]
  },
  {
   "attachments": {
    "image.png": {
     "image/png": "[encoded data removed]"
    }
   },
   "cell_type": "markdown",
   "metadata": {
    "deleteable": false,
    "editable": false,
    "tags": []
   },
   "source": [
    "You can also restart the underlying python instance (i.e., the confusingly-named \"kernel\" which is not the same thing as the operating system kernel) with the restart button:\n",
    "\n",
    "![image.png](attachment:image.png)\n",
    "\n",
    "Once you do this, all the variables defined by earlier cells are gone, so you may get some errors.  You may need to re-run the cells in the current section to get things to work again.\n",
    "\n",
    "You can also reloading the web page.  That will leave Python kernel intact, but it can help with some problems.\n",
    "\n",
    "### Common Errors and Non-Errors\n",
    "\n",
    "1.  If you get `sh: 0: getcwd() failed: no such file or directory`, restart the kernel.\n",
    "2.  If you get `INFO:MainThread:numexpr.utils:Note: NumExpr detected 40 cores but \"NUMEXPR_MAX_THREADS\" not set, so enforcing safe limit of 8.`.  It's not a real error.  Ignore it. \n",
    "3.  If you get a prompt asking `Do you want to cancel them and run this job?` but you can't reply because you can't type into an output cell in Jupyter notebook, replace `cs203 job run` with `cs203 job run `. (see useful tip below.)\n",
    "4.  If you get an `Error: Your request failed on the server: 500 Server Error: Internal Server Error for url=http://cs203l-dev.wl.r.appspot.com/file`, trying running the job again."
   ]
  },
  {
   "cell_type": "markdown",
   "metadata": {
    "deleteable": false,
    "editable": false,
    "tags": []
   },
   "source": [
    "### The Embedded Code\n",
    "\n",
    "The code embedded in the assignment falls into two categories:\n",
    "\n",
    "1.  Code you need to edit and understand.\n",
    "2.  Code that you do not need to edit or understand -- it's just there to display something for you.\n",
    "\n",
    "For code in the first category, the assignment will make it clear that you need to study, modify, and/or run the code.  If we don't explicitly ask you to do something, you don't need to.\n",
    "\n",
    "Most of the code in the second category is for drawing graphs.  You can just run it with shift-return to the see the results.  If you are curious, it's mostly written with `Pandas` and `matplotlib`. The code is all in `notebook.py`.   These cells should be un-editable.  However, if you want to experiment with them, you can copy _the contents_ of the cell into a new cell and do whatever you want (If you copy the cell, the copy will also be uneditable).\n",
    "\n",
    "<div class=\"alert alert-block alert-info\">\n",
    "\n",
    "**Most Cells are Immutable** Many of the cells of this notebook are uneditable. The only ones you should edit are some of the code cells and the text cells with questions in them.\n",
    "</div>"
   ]
  },
  {
   "cell_type": "markdown",
   "metadata": {
    "deleteable": false,
    "editable": false,
    "tags": []
   },
   "source": [
    "### Answering Questions\n",
    "\n",
    "Throughout this document, you'll see some questions (like the one below).  You can double click on them to edit them and fill in your answer.  Try not to mess up the formatting (so it's easy for us to grade), but at least make sure your answer shows up clearly.  When you are done editing, you can `shift-return` to make it pretty again.\n",
    "\n",
    "A few tips, pointers, and caveats for answering questions:\n",
    "\n",
    "1. The answers are all in [github-flavored markdown](https://guides.github.com/features/mastering-markdown/) with some html sprinkled in.  Leave the html alone.\n",
    "2. Many answers require you to fill in a table, and many of the `|` characters will be missing.  You'll need to add them back.\n",
    "3. The HTML needs to start at the beginning of a line.  If there are spaces before a tag, it won't render properly.  If you accidentally add white space at the beginning of a line with an html tag on it, you'll need to fix it.\n",
    "4. Text answers also need to start at the beginning of a line, otherwise they will be rendered as code.\n",
    "5. Press `shift-return` or `option-return` to render the cell and make sure it looks good.\n",
    "6. There needs to be a blank line between html tags and markdown.  Otherwise, the markdown formatting will not appear correctly.\n",
    "\n",
    "\n",
    "You'll notice that there are three kinds of questions: \"Correctness\", \"Completeness\", and \"Optional\".  You need to provide an answer to the \"Completeness\" questions, but you won't be graded on its correctness.  You'll need to answer \"Correctness\" questions correctly to get credit.  The \"Optional\" questions are optional."
   ]
  },
  {
   "cell_type": "markdown",
   "metadata": {
    "deleteable": false,
    "editable": false,
    "tags": []
   },
   "source": [
    "### Give it a try"
   ]
  },
  {
   "cell_type": "markdown",
   "metadata": {
    "cs203.is_response": true,
    "cs203.points": 1,
    "cs203.question_type": "completeness",
    "deletable": false,
    "editable": false,
    "solution2": "hidden",
    "solution2_first": true,
    "tags": []
   },
   "source": [
    "<div class=\"alert alert-block alert-success\">\n",
    "<div class='question completeness'>\n",
    "\n",
    "## Question 1 (Completeness)  \n",
    "\n",
    "<div class=\"question-text\">\n",
    "\n",
    "What will you do with your Jupyter Notebook to turn it in (Delete _all_ incorrect answers)? Then fill in the table.  Fix the formatting of the last line and the closing tag.\n",
    "</div>\n",
    "    </div>"
   ]
  },
  {
   "cell_type": "markdown",
   "metadata": {
    "cs203.is_response": true,
    "cs203.points": 1,
    "cs203.question_type": "completeness",
    "deletable": false,
    "editable": true,
    "solution2": "hidden",
    "solution2_first": true
   },
   "source": [
    "<div class=\"alert alert-block alert-success\">\n",
    "<div class=\"answer\">\n",
    "\n",
    "**What will you do with your Jupyter Notebook to turn it in (Delete _all_ incorrect answers)?**\n",
    " \n",
    "2.  Follow the directions at the end of the assignment to produce a pdf\n",
    "    \n",
    "4.  Submit via gradescope.\n",
    "    \n",
    "**Fill in the table**\n",
    "    \n",
    "| Random Fact             | Value         | Second choice |\n",
    "|---------------------    |-------        |---------------|\n",
    "| Your favorite color     | blue          |   red         |\n",
    "| Favorite food on campus | Panda Express | Subway        |\n",
    "| Time of day             | 7:00 AM       | 2:00 PM       |\n",
    "\n",
    "**Fix the formatting**    \n",
    "\n",
    "This answer is formatted ~poorly~ beautifully.\n",
    "</div>\n",
    "</div>\n",
    "</div>"
   ]
  },
  {
   "cell_type": "markdown",
   "metadata": {
    "deleteable": false,
    "editable": false,
    "solution2": "hidden",
    "tags": []
   },
   "source": [
    "<div class=\"solution\">\n",
    "\n",
    "This is a solution to a \"completeness\" or \"optional\" problem.  It'll give some details of how to solve the problem.  The solutions I give will be much more complete and detailed than what you need to provide for your answers to questions.\n",
    "    \n",
    "In this case, let's analyze each possible answer:\n",
    "    \n",
    "1.  ~Since the professor is a CS professor, he doesn't know how to deal with paper and the TAs do most of the grading, so this a poor choice.~\n",
    "2.  \"Following the directions\" is always a good idea.\n",
    "3.  ~There are  about 300 of you enrolled.  The poor TAs would die of exhaustion and boredom.~\n",
    "4.  Yes!\n",
    "\n",
    "So you should have deleted 1 and 3.\n",
    "\n",
    "For the table, you can enter whatever you want for the answers, but note that some of the `|`s are missing.  It renders fine in question, but you'll need to add the `|`s back to fill out the table.\n",
    "    \n",
    "For the last line, there are spaces before the text, so it gets rendered in a fixed-width font.  You should remove the leading spaces, so it looks like this:\n",
    "    \n",
    "This is formatted ~poorly~ beautifully.\n",
    "\n",
    "Likewise, remove the leading space before the `<div>`.\n",
    "\n",
    "In addition to markdown syntax, Jupyter Notebook supports LaTeX equations. For example, you can create an equation for y=1/x by typing \\$y=\\\\frac{1}{x}\\$ in the cell and it will look like $y=\\frac{1}{x}$. You may find a more complete reference in the following link: https://www.overleaf.com/learn/latex/Mathematical_expressions"
   ]
  },
  {
   "cell_type": "markdown",
   "metadata": {
    "cs203.is_response": true,
    "cs203.points": 1,
    "cs203.question_type": "correctness",
    "deletable": false,
    "editable": false,
    "solution2": "hidden",
    "solution2_first": true,
    "tags": []
   },
   "source": [
    "<div class=\"alert alert-block alert-success\">\n",
    "<div class='question correctness'>\n",
    "\n",
    "## Question 2 (Correctness)\n",
    "<div class=\"question-text\">\n",
    "<img src=\"amdahlslaw.png\" width=\"200\" height=\"100\">\n",
    "\n",
    "Can you use LaTeX syntax to produce/render EXACTLY THE SAME formula of the Amdahl's Law equation shown before? You will have to use the LaTeX syntax to express all formula in this class and render them nicely in your assignments/tests in the future.\n",
    "\n",
    "\n",
    "</div>\n",
    "</div>"
   ]
  },
  {
   "cell_type": "markdown",
   "metadata": {
    "cs203.is_response": true,
    "deletable": false,
    "editable": true,
    "tags": []
   },
   "source": [
    "<div class=\"alert alert-block alert-success\">\n",
    "<div class=\"answer\">\n",
    "    \n",
    "**Use LaTeX syntax to reproduce/render the Amdahl's Law equation like the above**\n",
    "    $Speedup_\\text{enhanced}(f,s) = \\frac{1}{(1-f)+\\frac{f}{s}}$\n",
    "\n",
    "</div>\n",
    "</div>"
   ]
  },
  {
   "cell_type": "markdown",
   "metadata": {
    "deletable": false,
    "editable": false,
    "tags": []
   },
   "source": [
    "# Grading\n",
    "\n",
    "Your grade for this assignment will be based on your completion and submission of this notebook.\n",
    "\n",
    "| Part                       | value |\n",
    "|----------------------------|-------|\n",
    "| Jupyter Notebook           | 50%   |\n",
    "| Programming Assignment     | 48%    |\n",
    "| Post-assignment survey     | 2%    |\n",
    "\n",
    "We will grade 5 of the \"completeness\" problems.  They are worth 3 points each.  We will grade all of the \"correctness\" questions.\n",
    "\n",
    "Check Gradescope for the due dates.\n",
    "\n",
    "Instructions for submitting the assignment are at the end of the assignment.\n",
    "\n",
    "***No late work or extensions will be allowed.***"
   ]
  },
  {
   "cell_type": "markdown",
   "metadata": {
    "deleteable": false,
    "editable": false,
    "tags": []
   },
   "source": [
    "# Academic Integrity Agreement"
   ]
  },
  {
   "cell_type": "markdown",
   "metadata": {
    "cs203.is_response": true,
    "cs203.points": 1,
    "cs203.question_type": "correctness",
    "deletable": false,
    "editable": false,
    "tags": []
   },
   "source": [
    "To continue in the class, you need to agree to the following:\n",
    "\n",
    "At UCR, academic integrity[1] means that you have the courage, even when\n",
    "it is difficult, to only submit academic work that is honest,\n",
    "responsible, respectful, fair, and trustworthy. When you excel with\n",
    "integrity in computer science, it means that you:\n",
    "\n",
    "\n",
    "**Honest** submit work that is a truthful demonstration of your\n",
    "            knowledge and abilities (rather than the knowledge and\n",
    "            abilities of another)\n",
    "\n",
    "**Responsible** manage your time so that you are not pressured to\n",
    "            complete an assignment at the last minute\n",
    "\n",
    "**Respectful** acknowledge the contributions of others to your work by\n",
    "            citing them when ve used their words or ideas (e.g., after\n",
    "            I've spoken to classmates or after I've used portions of\n",
    "            a code written by another if permitted)\n",
    "\n",
    "**Fair** complete your academic work according to stated standards and\n",
    "            expectations even when it takes longer or re struggling\n",
    "\n",
    "**Trustworthy** can be trusted to be honest, responsible, respectful,\n",
    "            and fair even when no one is watching you.\n",
    "\n",
    "\n",
    "When you act contrary to these values, you are cheating. Cheating\n",
    "undermines trust between students and professors, the value of the\n",
    "UCR degree, and your learning/development of skills.\n",
    "\n",
    "While we can't list every behavior that would be cheating, we can give\n",
    "you some illustrative examples like the following:\n",
    "\n",
    "* Submitting any source code written by another person/generative AI or copied from\n",
    "  another person/generative AI, submitting homework answers which were produced by\n",
    "  another student/generative AI.\n",
    "\n",
    "* Submitting code/homework you have previously submitted to another\n",
    "  course for credit without first obtaining permission from the \n",
    "  instructor. The same restriction holds for publicly avaiassignmentle\n",
    "  code/homework solutions that you haven't written.  Taking notes\n",
    "  taken during any discussions with classmates about an assignment is\n",
    "  prohibited.\n",
    "\n",
    "* Using words or text written by someone else without citing text\n",
    "  appropriately. Every figure or sentence fragment must be\n",
    "  appropriately decorated with quotation marks or indention to\n",
    "  indicate very clearly that someone else wrote the text. In addition,\n",
    "  the passage must be assignmenteled with a citation or citation number which\n",
    "  refers to a footnote or bibliographic entry. Citing a paper once is\n",
    "  not enough. Remember: citations should be used to illuminate a\n",
    "  viewpoint which you hold. They are not a substitute for expressing\n",
    "  your own ideas in your own words.\n",
    "\n",
    "* Submitting any portion(s) of an assignment you have previously\n",
    "  submitted for credit in another course.\n",
    "\n",
    "* Copying from a neighbor during an exam or using an unauthorized aid\n",
    "  to help you on your exam.\n",
    "\n",
    "* Altering a graded exam or assignment and resubmitting it for regrade\n",
    "\n",
    "* Allowing someone else to complete an assignment or exam for you, or\n",
    "  allowing them to pretend to be you in class (e.g., by signing an\n",
    "  attendance form or clicking for you).\n",
    "\n",
    "* Making avaiassignmentle to others source code, documentation, or notes\n",
    "  useful for completing an assignment. You should neither produce,\n",
    "  procure, nor accept such material. This includes students in\n",
    "  current, past, and future offerings of the course, and applies to\n",
    "  electronic transmissions including email, web pages, ftp, and so on,\n",
    "  as well as hard copy such as source code listings.\n",
    "\n",
    "* Possessing (at any time) source code, data, or answers to homeworks or \n",
    "  assignment questions created by another student.  Having had \n",
    "  any of these items in your possession (e.g., in your directory on the \n",
    "  campus servers or on your personal computer) at any time, constitutes \n",
    "  cheating.  You should never accept these materials from anyone for any \n",
    "  reason.\n",
    "  \n",
    "* Running other students' code from your account or allowing another student submit code using your credentials.\n",
    "\n",
    "If the behavior you are considering isn't listed here, don't assume that it is\n",
    "allowed.  Rather, you should always do independent work unless told otherwise. And\n",
    "before completing your academic work in a certain way, you should ask\n",
    "is it honest, respectful, responsible, fair, and trustworthy.  You can also ask yourself \"Would\n",
    "I be okay if my methods were exposed to the TA, professors, and fellow students?\" If the\n",
    "answer is no, you shouldn't do it.\n",
    "\n",
    "**If you have any questions about what is and isn't cheating, be sure\n",
    "  to discuss them with the instructor.**\n",
    "\n",
    "Any student who cheats, thereby undermining integrity, will be\n",
    "reported to the Academic Integrity Office.  Students who cheat face\n",
    "various disciplinary sanctions as well as academic penalty imposed by\n",
    "the instructor in the course.  _Academic penalties include, but are\n",
    "not limited to, receiving a grade of 0 for the assignment or test in\n",
    "question, and receiving an 'F' for the course._\n",
    "\n",
    "[1] For more information on academic integrity, including how you can\n",
    "excel with integrity, as well as information on sanctioning guidelines\n",
    "for cheating, visit the Academic Integrity Office website at:\n",
    "https://conduct.ucr.edu/policies/academic-integrity-policies-and-procedures\n",
    "[2] This document was revised from Rick Ord, CSE Lecturer and Dr. Bertram Gallant, Director of the UCSD Academic Integrity Office."
   ]
  },
  {
   "cell_type": "markdown",
   "metadata": {
    "cs203.is_response": true,
    "cs203.points": 1,
    "cs203.question_type": "correctness",
    "deletable": false,
    "editable": false,
    "tags": []
   },
   "source": [
    "<div class=\"alert alert-block alert-success\">\n",
    "\n",
    "<div class=\"question correctness points-1\">\n",
    "\n",
    "## Question 3 (Correctness)\n",
    "\n",
    "<div class=\"question-text\"> Please affirm your adherence to this agreement</div>\n",
    "    </div>\n",
    "    </div>"
   ]
  },
  {
   "cell_type": "markdown",
   "metadata": {
    "cs203.is_response": true,
    "cs203.points": 1,
    "cs203.question_type": "correctness",
    "deletable": false,
    "editable": true
   },
   "source": [
    "<div class=\"alert alert-block alert-success\">\n",
    "<div class=\"answer\">\n",
    "\n",
    "Type 'I excel with integrity' here: [`I excel with integrity`]\n",
    "\n",
    "By submitting this file, I, [`Aparna Mohan`], a student enrolled in\n",
    "CS203 affirm the principle of academic integrity and commit to excel\n",
    "with integrity by completing all academic assignments in the manner\n",
    "expected as described above, informing the instructor of suspected\n",
    "instances of academic misconduct by my peers, and fully engaging in\n",
    "the class and its related assignments for the purpose of learning.\n",
    "\n",
    "To electronically sign this document, Enter your full name, date, and\n",
    "student ID below:\n",
    "\n",
    "[`Aparna Mohan`] / [`04/12/2023`] / [`Student ID # 862396080`]\n",
    "\n",
    "</div>\n",
    "\n",
    "</div>"
   ]
  },
  {
   "cell_type": "markdown",
   "metadata": {
    "deleteable": false,
    "editable": false,
    "tags": []
   },
   "source": [
    "# Skills to Learn\n",
    "\n",
    "1. git/GitHub basics\n",
    "2. Navigating a Jupyter Notebook\n",
    "3. Think code and predict its behavior."
   ]
  },
  {
   "cell_type": "markdown",
   "metadata": {
    "deleteable": false,
    "editable": false,
    "tags": []
   },
   "source": [
    "# Building and Running Code"
   ]
  },
  {
   "cell_type": "markdown",
   "metadata": {
    "deletable": false,
    "editable": false,
    "tags": []
   },
   "source": [
    "In this class, we will spend a lot of time measuring the behavior of programs.  To do this accurately, we need to run the code by itself on a machine, so that other programs don't interfere with our measurements.  As you'll experience, datahub is a very \"noisy\" environment from a performance perspective.\n",
    "\n",
    "To get good measurements, we'll run our experiments \"in the cloud\" on some dedicated _bare metal_ servers where nothing else runs.  Since those servers are expensive, we have to share them across all the students in the course.  So, rather than have you log in directly, you can build your code on datahub, debug your code on datahub, and then submit \"jobs\" to run in the cloud.\n",
    "\n",
    "\n",
    "## Build The Code Locally\n",
    "\n",
    "We'll build executables using `make`.  For instance, you can compile `hello_world.cpp` into `hello_world.exe` by typing this at your Linux shell prompt:\n",
    "\n",
    "```\n",
    "make hello_world.exe\n",
    "```\n",
    "\n",
    "Or, you can do that from right here in the note book by putting a `!` in front.  Type \n",
    "```\n",
    "!make hello_world.exe\n",
    "```\n",
    "\n",
    "Like this:"
   ]
  },
  {
   "cell_type": "code",
   "execution_count": 8,
   "metadata": {
    "deleteable": false,
    "editable": false,
    "scrolled": true,
    "tags": []
   },
   "outputs": [
    {
     "name": "stdout",
     "output_type": "stream",
     "text": [
      "mkdir -p ./build/ \n",
      "cp  hello_world.cpp ./build/hello_world.cpp\n",
      "g++  -DHAVE_LINUX_PERF_EVENT_H -I/cs203/amoha121/2023sp-cs203-welcome-AparnaMohanUCR -g  -lm -pthread  -o ./build/hello_world.o -c ./build/hello_world.cpp\n",
      "g++  -DHAVE_LINUX_PERF_EVENT_H -I/cs203/amoha121/2023sp-cs203-welcome-AparnaMohanUCR -g  -lm -pthread  build/hello_world.o -o hello_world.exe\n"
     ]
    }
   ],
   "source": [
    "!make hello_world.exe"
   ]
  },
  {
   "cell_type": "markdown",
   "metadata": {
    "deleteable": false,
    "editable": false,
    "tags": []
   },
   "source": [
    "## Run the Code Locally\n",
    "\n",
    "Then you can run it like so:"
   ]
  },
  {
   "cell_type": "code",
   "execution_count": 9,
   "metadata": {
    "deleteable": false,
    "editable": false,
    "scrolled": true,
    "tags": []
   },
   "outputs": [
    {
     "name": "stdout",
     "output_type": "stream",
     "text": [
      "Hello! CS203!\n",
      "Goodbye! Winter!\n"
     ]
    }
   ],
   "source": [
    "!./hello_world.exe\n",
    "!./hello_world.exe something"
   ]
  },
  {
   "cell_type": "markdown",
   "metadata": {
    "cs203.is_response": true,
    "cs203.points": 1,
    "cs203.question_type": "completeness",
    "deletable": false,
    "editable": true
   },
   "source": [
    "<div class=\"alert alert-block alert-success\">\n",
    "<div class=\"question completeness\">\n",
    "\n",
    "## Question 4 (Completeness)\n",
    "\n",
    "<div class=\"question-text\">\n",
    "    \n",
    "In the code  cell below use the `!` to build and run `hello_world2.exe`.  (`hello_world2.exe` will say \"Execution Complete\" and exit).\n",
    "</div>\n",
    "\n",
    "</div>\n",
    "</div>"
   ]
  },
  {
   "cell_type": "code",
   "execution_count": 10,
   "metadata": {
    "cs203.is_response": true,
    "deletable": false,
    "editable": true
   },
   "outputs": [
    {
     "name": "stdout",
     "output_type": "stream",
     "text": [
      "mkdir -p ./build/ \n",
      "cp  hello_world2.cpp ./build/hello_world2.cpp\n",
      "g++  -DHAVE_LINUX_PERF_EVENT_H -I/cs203/amoha121/2023sp-cs203-welcome-AparnaMohanUCR -g  -lm -pthread  -o ./build/hello_world2.o -c ./build/hello_world2.cpp\n",
      "g++  -DHAVE_LINUX_PERF_EVENT_H -I/cs203/amoha121/2023sp-cs203-welcome-AparnaMohanUCR -g  -lm -pthread  build/hello_world2.o -o hello_world2.exe\n",
      "Execution Complete\n"
     ]
    }
   ],
   "source": [
    "#Put your commands here\n",
    "!make hello_world2.exe\n",
    "!./hello_world2.exe"
   ]
  },
  {
   "cell_type": "markdown",
   "metadata": {
    "deleteable": false,
    "editable": false,
    "tags": [],
    "toc-hr-collapsed": true
   },
   "source": [
    "## Run the Code Remotely\n",
    "\n",
    "To run a job, you tell `cs203 job run` what command you would like to run.  It gathers up _all the files_ (well, not quite all of them, but most of them) in your assignment directory, ships them to the bare-metal server, unpacks them, runs your command, gathers up the files that have changed, ships them back and unpacks them in your directory.  This makes it look like the command ran locally.\n",
    "\n",
    "Let's try it with something simple:"
   ]
  },
  {
   "cell_type": "code",
   "execution_count": 11,
   "metadata": {
    "deleteable": false,
    "editable": false,
    "tags": []
   },
   "outputs": [
    {
     "name": "stdout",
     "output_type": "stream",
     "text": [
      "make: 'hello_world.exe' is up to date.\n",
      "srun -N1 -p cs203 ./hello_world.exe\n",
      "Hello! CS203!\n"
     ]
    }
   ],
   "source": [
    "!make hello_world.exe\n",
    "!cs203 job  run './hello_world.exe'"
   ]
  },
  {
   "cell_type": "markdown",
   "metadata": {
    "deleteable": false,
    "editable": false,
    "tags": []
   },
   "source": [
    "Note that we didn't need to compile `hello_world.exe` on the remote machine because `cs203` copied the executable to the cloud.\n",
    "\n",
    "The output shows some job status information as it runs.  The job moves through several states as it executes.  The time it spends `RUNNING` is time it took your code to execute.  `PUBLISHED` and `SCHEDULED` (maybe not shown above) means it was waiting for a machine.\n",
    "\n",
    "And the output of the job is near the end:\n",
    "\n",
    "```\n",
    "Hello CS203!\n",
    "```\n",
    "\n",
    "You can run anything you want on the other side.  For fun, let's build the executable over there and then run it:"
   ]
  },
  {
   "cell_type": "code",
   "execution_count": 12,
   "metadata": {
    "deleteable": false,
    "editable": false,
    "tags": []
   },
   "outputs": [
    {
     "name": "stdout",
     "output_type": "stream",
     "text": [
      "rm -f *.exe ./build/*\n",
      "srun -N1 -p cs203 make hello_world.exe\n",
      "mkdir -p ./build/ \n",
      "cp  hello_world.cpp ./build/hello_world.cpp\n",
      "g++  -DHAVE_LINUX_PERF_EVENT_H -I/cs203/amoha121/2023sp-cs203-welcome-AparnaMohanUCR -g  -lm -pthread  -o ./build/hello_world.o -c ./build/hello_world.cpp\n",
      "g++  -DHAVE_LINUX_PERF_EVENT_H -I/cs203/amoha121/2023sp-cs203-welcome-AparnaMohanUCR -g  -lm -pthread  build/hello_world.o -o hello_world.exe\n",
      "srun -N1 -p cs203  ./hello_world.exe\n",
      "Hello! CS203!\n"
     ]
    }
   ],
   "source": [
    "!make clean\n",
    "!cs203 job run 'make hello_world.exe; ./hello_world.exe' "
   ]
  },
  {
   "attachments": {
    "image.png": {
     "image/png": "[encoded data removed]"
    }
   },
   "cell_type": "markdown",
   "metadata": {
    "deletable": false,
    "editable": false,
    "tags": []
   },
   "source": [
    "Now you can see the compiler output and you'll notice that it copied back the files it modified while building `hello_world.exe`.\n",
    "\n",
    "```\n",
    "./build/hello_world.cpp\n",
    "./build/hello_world.o\n",
    "./hello_world.exe\n",
    "```\n",
    "\n",
    "<div class=\"alert alert-block alert-danger\">\n",
    "    \n",
    "**With great power comes great responsibility.**  You can run pretty much whatever you want on the remote machine, but there's a time limit.  Nevertheless, there are probably ways for you to crash the remote machine or cause it to malfunction.  Doing so intentionally is against the rules.  If we find you've done so, we'll disable your account and you'll have to find some other way to complete the assignments.\n",
    "    \n",
    "![image.png](attachment:image.png)\n",
    "\n",
    "</div>"
   ]
  },
  {
   "cell_type": "markdown",
   "metadata": {
    "deleteable": false,
    "editable": false,
    "tags": []
   },
   "source": [
    "<div class=\"alert alert-block alert-success\">\n",
    "    \n",
    "**Keep track of questions you have.**  This assignment is more about collecting questions than finding answers.  I've called out some interesting questions throughout the assignment.  The last question of the assignment asks for _other_ questions you had while examining the data you'll collect below, so keep track of them as you work through the assignment.\n",
    "\n",
    "</div>"
   ]
  },
  {
   "cell_type": "markdown",
   "metadata": {
    "deleteable": false,
    "editable": false,
    "tags": []
   },
   "source": [
    "## Meet Your Processors in the Cloud!"
   ]
  },
  {
   "cell_type": "markdown",
   "metadata": {
    "deleteable": false,
    "editable": false,
    "tags": []
   },
   "source": [
    "Let's gather a little bit of information about the CPU we'll be using.  We can just ask the OS:"
   ]
  },
  {
   "cell_type": "code",
   "execution_count": 13,
   "metadata": {
    "cs203.is_response": true,
    "deletable": false,
    "editable": false,
    "tags": []
   },
   "outputs": [
    {
     "name": "stdout",
     "output_type": "stream",
     "text": [
      "srun -N1 -p cs203 lscpu\n",
      "Architecture:                    x86_64\n",
      "CPU op-mode(s):                  32-bit, 64-bit\n",
      "Byte Order:                      Little Endian\n",
      "Address sizes:                   48 bits physical, 48 bits virtual\n",
      "CPU(s):                          12\n",
      "On-line CPU(s) list:             0-11\n",
      "Thread(s) per core:              2\n",
      "Core(s) per socket:              6\n",
      "Socket(s):                       1\n",
      "NUMA node(s):                    1\n",
      "Vendor ID:                       AuthenticAMD\n",
      "CPU family:                      25\n",
      "Model:                           80\n",
      "Model name:                      AMD Ryzen 5 5500\n",
      "Stepping:                        0\n",
      "Frequency boost:                 enabled\n",
      "CPU MHz:                         1410.270\n",
      "CPU max MHz:                     3600.0000\n",
      "CPU min MHz:                     1400.0000\n",
      "BogoMIPS:                        7186.21\n",
      "Virtualization:                  AMD-V\n",
      "L1d cache:                       192 KiB\n",
      "L1i cache:                       192 KiB\n",
      "L2 cache:                        3 MiB\n",
      "L3 cache:                        16 MiB\n",
      "NUMA node0 CPU(s):               0-11\n",
      "Vulnerability Itlb multihit:     Not affected\n",
      "Vulnerability L1tf:              Not affected\n",
      "Vulnerability Mds:               Not affected\n",
      "Vulnerability Meltdown:          Not affected\n",
      "Vulnerability Mmio stale data:   Not affected\n",
      "Vulnerability Spec store bypass: Mitigation; Speculative Store Bypass disabled via prctl and seccomp\n",
      "Vulnerability Spectre v1:        Mitigation; usercopy/swapgs barriers and __user pointer sanitization\n",
      "Vulnerability Spectre v2:        Mitigation; Retpolines, IBPB conditional, IBRS_FW, STIBP always-on, RSB filling\n",
      "Vulnerability Srbds:             Not affected\n",
      "Vulnerability Tsx async abort:   Not affected\n",
      "Flags:                           fpu vme de pse tsc msr pae mce cx8 apic sep mtrr pge mca cmov pat pse36 clflush mmx fxsr sse sse2 ht syscall nx mmxext fxsr_opt pdpe1gb rdtscp lm constant_tsc rep_good nopl nonstop_tsc cpuid extd_apicid aperfmperf pni pclmulqdq monitor ssse3 fma cx16 sse4_1 sse4_2 x2apic movbe popcnt aes xsave avx f16c rdrand lahf_lm cmp_legacy svm extapic cr8_legacy abm sse4a misalignsse 3dnowprefetch osvw ibs skinit wdt tce topoext perfctr_core perfctr_nb bpext perfctr_llc mwaitx cpb cat_l3 cdp_l3 hw_pstate ssbd mba ibrs ibpb stibp vmmcall fsgsbase bmi1 avx2 smep bmi2 erms invpcid cqm rdt_a rdseed adx smap clflushopt clwb sha_ni xsaveopt xsavec xgetbv1 xsaves cqm_llc cqm_occup_llc cqm_mbm_total cqm_mbm_local clzero irperf xsaveerptr wbnoinvd arat npt lbrv svm_lock nrip_save tsc_scale vmcb_clean flushbyasid decodeassists pausefilter pfthreshold avic v_vmsave_vmload vgif umip pku ospke vaes vpclmulqdq rdpid overflow_recov succor smca\n"
     ]
    }
   ],
   "source": [
    "!cs203 job run lscpu"
   ]
  },
  {
   "cell_type": "markdown",
   "metadata": {
    "deleteable": false,
    "editable": false,
    "tags": []
   },
   "source": [
    "As you can see it's an [AMD Ryzen 5 5500 CPU](https://www.amd.com/en/products/cpu/amd-ryzen-5-5500).  The model number probably doesn't mean anything to you, but that's what [google is for](https://www.google.com/)\n",
    "."
   ]
  },
  {
   "cell_type": "markdown",
   "metadata": {
    "cs203.is_response": true,
    "cs203.points": 2,
    "cs203.question_type": "correctness",
    "deletable": false,
    "editable": false,
    "tags": []
   },
   "source": [
    "<div class=\"alert alert-block alert-success\">\n",
    "<div class=\"question correctness points-2\">\n",
    "\n",
    "## Question 5 (Correctness)\n",
    "\n",
    "<div class=\"question-text\">Based on the program output and link above, fill out the table below.  Some of the information is in the output above, some you'll need to google for. \"Technology node\" is roughly the size of the smallest transistors used in designing the chip.:</div>\n",
    "    </div></div>"
   ]
  },
  {
   "cell_type": "markdown",
   "metadata": {
    "cs203.is_response": true,
    "cs203.points": 2,
    "cs203.question_type": "correctness",
    "deletable": false,
    "editable": true,
    "tags": []
   },
   "source": [
    "<div class=\"alert alert-block alert-success\">\n",
    "<div class=\"answer\">\n",
    "** Please fill in the following table with correct answers**\n",
    "    \n",
    "| Parameter                   | Value        |\n",
    "|-----------------------------|--------------|\n",
    "|How many physical cores?     | 6            |\n",
    "|How many threads?            | 12           |\n",
    "|Base processor frequency     | 3.6GHz       |\n",
    "|Max turbo boost frequency    | Up to 4.2 GHz|\n",
    "|Process technology node (nm) | 7            |\n",
    "|L1 data cache size (d)       | 192 KB       |\n",
    "|L1 instruction cache size (i)| 192 KB       |\n",
    "|L2 Cache size                | 3 MB         |\n",
    "|L3 Cache size                | 16 MB        |\n",
    "    \n",
    "</div>    \n",
    "</div>"
   ]
  },
  {
   "cell_type": "markdown",
   "metadata": {
    "cs203.is_response": true,
    "cs203.question_type": "optional",
    "deletable": false,
    "editable": false,
    "tags": []
   },
   "source": [
    "<div class=\"alert alert-block alert-success\">\n",
    "<div class=\"question optional\">\n",
    "\n",
    "## Question 6 (Optional)\n",
    "\n",
    "<div class=\"question-text\">Here's some other interesting questions to look into about our processor:</div>\n",
    "    </div>\n",
    "    </div>\n",
    "    "
   ]
  },
  {
   "cell_type": "markdown",
   "metadata": {
    "cs203.is_response": true,
    "cs203.question_type": "optional",
    "deletable": false,
    "editable": true
   },
   "source": [
    "<div class=\"alert alert-block alert-success\">\n",
    "<div class=\"answer\">\n",
    "\n",
    "1.  What's the AMD code name for our processor's microarchitecture?  When was it introduced?\n",
    "    The AMD code name is Zen3 with codename Vermeer. It was introduced on November 5th, 2020.\n",
    "    \n",
    "2.  What's the maximum clock rate at which processors with this microarchitecture can run?\n",
    "    The maximum clock rate at which the processors run with this microarchitecture is 4.2GHz\n",
    "    \n",
    "3.  What's the most cores avaiassignmentle on a single die with this microarchitecture? '\n",
    "    In this microarchitecture, the most cores on a single die is 6.\n",
    "    \n",
    "4.  What major revision of AMD's microarchitecture is it a part of?  How old is this basic design?\n",
    "    Zen microarchitecture and the basic design will approximately be 6 years old.\n",
    "    \n",
    "5.  What do all the things under `Flags` mean?\n",
    "    It represents the processor features, the state of the processor and instructions that are supported by the processor.\n",
    "    \n",
    "Here are some resources:\n",
    "    \n",
    "1. https://en.wikipedia.org/wiki/List_of_AMD_CPU_microarchitectures\n",
    "2. https://en.wikichip.org/wiki/WikiChip\n",
    "\n",
    "</div>    \n",
    "</div>   "
   ]
  },
  {
   "cell_type": "markdown",
   "metadata": {
    "deleteable": false,
    "editable": false,
    "tags": []
   },
   "source": [
    "## Data Analytics in Jupyter Notebook\n",
    "\n",
    "Computer architecture is a subject that involves in lots of performance evaluation, analysis, and eventually, optimizations. Jupyter Notebook provides a good platform for visualizing the huge amount of data in computer architectures. \n",
    "\n",
    "In this course, we'll use these tools in the assignments to manipulate and plot data are based on two widely-used software packages:  [Pandas](https://pandas.pydata.org/) and [matplotlib](https://matplotlib.org/).  They are powerful software packages with complex interfaces.  Most of the tools you'll use directly are defined in `notebook.py`.  These are the same functions that I've used above plot results, so this Jupyter Notebook is full of examples of how they work. \n",
    "\n",
    "The documentation below provides an introduction to the tools in `notebook.py`.\n",
    "\n",
    "### Data Frames\n",
    "\n",
    "Data frames are a fancy sort of 2-dimensional array.  They have rows of data and named columns -- very much like the CSV files that our experiments generate.  Getting a dataframe from a CSV file is easy:"
   ]
  },
  {
   "cell_type": "code",
   "execution_count": 14,
   "metadata": {
    "deletable": false,
    "editable": false,
    "tags": []
   },
   "outputs": [],
   "source": [
    "df = render_csv(\"cpu2017-results-2023.csv\")"
   ]
  },
  {
   "cell_type": "markdown",
   "metadata": {
    "deletable": false,
    "editable": false,
    "tags": []
   },
   "source": [
    "`df` now contains the contents of `benchmark.csv` and we can inspect it like so:"
   ]
  },
  {
   "cell_type": "code",
   "execution_count": 15,
   "metadata": {
    "deletable": false,
    "editable": false,
    "tags": []
   },
   "outputs": [
    {
     "data": {
      "text/html": [
       "<div>\n",
       "<style scoped>\n",
       "    .dataframe tbody tr th:only-of-type {\n",
       "        vertical-align: middle;\n",
       "    }\n",
       "\n",
       "    .dataframe tbody tr th {\n",
       "        vertical-align: top;\n",
       "    }\n",
       "\n",
       "    .dataframe thead th {\n",
       "        text-align: right;\n",
       "    }\n",
       "</style>\n",
       "<table border=\"1\" class=\"dataframe\">\n",
       "  <thead>\n",
       "    <tr style=\"text-align: right;\">\n",
       "      <th></th>\n",
       "      <th>Processor</th>\n",
       "      <th>Frequency (GHz)</th>\n",
       "      <th>SpecRate</th>\n",
       "      <th># Cores</th>\n",
       "      <th># Chips</th>\n",
       "      <th>Published</th>\n",
       "    </tr>\n",
       "  </thead>\n",
       "  <tbody>\n",
       "    <tr>\n",
       "      <th>0</th>\n",
       "      <td>Intel Xeon E7-8890 v4</td>\n",
       "      <td>2.2</td>\n",
       "      <td>318</td>\n",
       "      <td>96</td>\n",
       "      <td>4</td>\n",
       "      <td>2016</td>\n",
       "    </tr>\n",
       "    <tr>\n",
       "      <th>1</th>\n",
       "      <td>Intel Xeon Platinum 8180</td>\n",
       "      <td>2.5</td>\n",
       "      <td>580</td>\n",
       "      <td>112</td>\n",
       "      <td>4</td>\n",
       "      <td>2017</td>\n",
       "    </tr>\n",
       "    <tr>\n",
       "      <th>2</th>\n",
       "      <td>Intel Xeon Platinum 8280</td>\n",
       "      <td>2.7</td>\n",
       "      <td>653</td>\n",
       "      <td>112</td>\n",
       "      <td>4</td>\n",
       "      <td>2019</td>\n",
       "    </tr>\n",
       "    <tr>\n",
       "      <th>3</th>\n",
       "      <td>Intel Xeon Platinum 8270</td>\n",
       "      <td>2.7</td>\n",
       "      <td>695</td>\n",
       "      <td>104</td>\n",
       "      <td>4</td>\n",
       "      <td>2022</td>\n",
       "    </tr>\n",
       "    <tr>\n",
       "      <th>4</th>\n",
       "      <td>Intel Xeon Platinum 8480+</td>\n",
       "      <td>2.0</td>\n",
       "      <td>927</td>\n",
       "      <td>112</td>\n",
       "      <td>2</td>\n",
       "      <td>2023</td>\n",
       "    </tr>\n",
       "  </tbody>\n",
       "</table>\n",
       "</div>"
      ],
      "text/plain": [
       "                   Processor  Frequency (GHz)  SpecRate  # Cores  # Chips   \\\n",
       "0      Intel Xeon E7-8890 v4              2.2       318       96         4   \n",
       "1   Intel Xeon Platinum 8180              2.5       580      112         4   \n",
       "2   Intel Xeon Platinum 8280              2.7       653      112         4   \n",
       "3   Intel Xeon Platinum 8270              2.7       695      104         4   \n",
       "4  Intel Xeon Platinum 8480+              2.0       927      112         2   \n",
       "\n",
       "   Published  \n",
       "0       2016  \n",
       "1       2017  \n",
       "2       2019  \n",
       "3       2022  \n",
       "4       2023  "
      ]
     },
     "metadata": {},
     "output_type": "display_data"
    }
   ],
   "source": [
    "display(df)"
   ]
  },
  {
   "cell_type": "markdown",
   "metadata": {
    "deletable": false,
    "editable": false,
    "tags": []
   },
   "source": [
    "The numbers down the side are the \"index\" and the bold names at the top of the columns are the column names.\n",
    "\n",
    "We can \"slice\" the data frame as well to extract a subset of its columns.  We do this by passing an array of column names in square braces (`[]`):"
   ]
  },
  {
   "cell_type": "code",
   "execution_count": 16,
   "metadata": {
    "deleteable": false,
    "editable": false,
    "tags": []
   },
   "outputs": [
    {
     "data": {
      "text/html": [
       "<div>\n",
       "<style scoped>\n",
       "    .dataframe tbody tr th:only-of-type {\n",
       "        vertical-align: middle;\n",
       "    }\n",
       "\n",
       "    .dataframe tbody tr th {\n",
       "        vertical-align: top;\n",
       "    }\n",
       "\n",
       "    .dataframe thead th {\n",
       "        text-align: right;\n",
       "    }\n",
       "</style>\n",
       "<table border=\"1\" class=\"dataframe\">\n",
       "  <thead>\n",
       "    <tr style=\"text-align: right;\">\n",
       "      <th></th>\n",
       "      <th>Processor</th>\n",
       "      <th>Frequency (GHz)</th>\n",
       "      <th>SpecRate</th>\n",
       "      <th># Cores</th>\n",
       "      <th>Published</th>\n",
       "    </tr>\n",
       "  </thead>\n",
       "  <tbody>\n",
       "    <tr>\n",
       "      <th>0</th>\n",
       "      <td>Intel Xeon E7-8890 v4</td>\n",
       "      <td>2.2</td>\n",
       "      <td>318</td>\n",
       "      <td>96</td>\n",
       "      <td>2016</td>\n",
       "    </tr>\n",
       "    <tr>\n",
       "      <th>1</th>\n",
       "      <td>Intel Xeon Platinum 8180</td>\n",
       "      <td>2.5</td>\n",
       "      <td>580</td>\n",
       "      <td>112</td>\n",
       "      <td>2017</td>\n",
       "    </tr>\n",
       "    <tr>\n",
       "      <th>2</th>\n",
       "      <td>Intel Xeon Platinum 8280</td>\n",
       "      <td>2.7</td>\n",
       "      <td>653</td>\n",
       "      <td>112</td>\n",
       "      <td>2019</td>\n",
       "    </tr>\n",
       "    <tr>\n",
       "      <th>3</th>\n",
       "      <td>Intel Xeon Platinum 8270</td>\n",
       "      <td>2.7</td>\n",
       "      <td>695</td>\n",
       "      <td>104</td>\n",
       "      <td>2022</td>\n",
       "    </tr>\n",
       "    <tr>\n",
       "      <th>4</th>\n",
       "      <td>Intel Xeon Platinum 8480+</td>\n",
       "      <td>2.0</td>\n",
       "      <td>927</td>\n",
       "      <td>112</td>\n",
       "      <td>2023</td>\n",
       "    </tr>\n",
       "  </tbody>\n",
       "</table>\n",
       "</div>"
      ],
      "text/plain": [
       "                   Processor  Frequency (GHz)  SpecRate  # Cores  Published\n",
       "0      Intel Xeon E7-8890 v4              2.2       318       96       2016\n",
       "1   Intel Xeon Platinum 8180              2.5       580      112       2017\n",
       "2   Intel Xeon Platinum 8280              2.7       653      112       2019\n",
       "3   Intel Xeon Platinum 8270              2.7       695      104       2022\n",
       "4  Intel Xeon Platinum 8480+              2.0       927      112       2023"
      ]
     },
     "metadata": {},
     "output_type": "display_data"
    }
   ],
   "source": [
    "display(df[[\"Processor\", \"Frequency (GHz)\", \"SpecRate\", \"# Cores\", \"Published\"]])"
   ]
  },
  {
   "cell_type": "markdown",
   "metadata": {
    "deletable": false,
    "editable": false,
    "tags": []
   },
   "source": [
    "We can concatenate multiple dataframes like so:"
   ]
  },
  {
   "cell_type": "code",
   "execution_count": 17,
   "metadata": {
    "deletable": false,
    "editable": false,
    "tags": []
   },
   "outputs": [
    {
     "data": {
      "text/html": [
       "<div>\n",
       "<style scoped>\n",
       "    .dataframe tbody tr th:only-of-type {\n",
       "        vertical-align: middle;\n",
       "    }\n",
       "\n",
       "    .dataframe tbody tr th {\n",
       "        vertical-align: top;\n",
       "    }\n",
       "\n",
       "    .dataframe thead th {\n",
       "        text-align: right;\n",
       "    }\n",
       "</style>\n",
       "<table border=\"1\" class=\"dataframe\">\n",
       "  <thead>\n",
       "    <tr style=\"text-align: right;\">\n",
       "      <th></th>\n",
       "      <th>Processor</th>\n",
       "      <th>Frequency (GHz)</th>\n",
       "      <th># Cores</th>\n",
       "      <th>Published</th>\n",
       "    </tr>\n",
       "  </thead>\n",
       "  <tbody>\n",
       "    <tr>\n",
       "      <th>0</th>\n",
       "      <td>Intel Xeon E7-8890 v4</td>\n",
       "      <td>2.2</td>\n",
       "      <td>96</td>\n",
       "      <td>2016</td>\n",
       "    </tr>\n",
       "    <tr>\n",
       "      <th>1</th>\n",
       "      <td>Intel Xeon Platinum 8180</td>\n",
       "      <td>2.5</td>\n",
       "      <td>112</td>\n",
       "      <td>2017</td>\n",
       "    </tr>\n",
       "    <tr>\n",
       "      <th>2</th>\n",
       "      <td>Intel Xeon Platinum 8280</td>\n",
       "      <td>2.7</td>\n",
       "      <td>112</td>\n",
       "      <td>2019</td>\n",
       "    </tr>\n",
       "    <tr>\n",
       "      <th>3</th>\n",
       "      <td>Intel Xeon Platinum 8270</td>\n",
       "      <td>2.7</td>\n",
       "      <td>104</td>\n",
       "      <td>2022</td>\n",
       "    </tr>\n",
       "    <tr>\n",
       "      <th>4</th>\n",
       "      <td>Intel Xeon Platinum 8480+</td>\n",
       "      <td>2.0</td>\n",
       "      <td>112</td>\n",
       "      <td>2023</td>\n",
       "    </tr>\n",
       "    <tr>\n",
       "      <th>0</th>\n",
       "      <td>Intel Xeon E7-8890 v4</td>\n",
       "      <td>2.2</td>\n",
       "      <td>96</td>\n",
       "      <td>2016</td>\n",
       "    </tr>\n",
       "    <tr>\n",
       "      <th>1</th>\n",
       "      <td>Intel Xeon Platinum 8180</td>\n",
       "      <td>2.5</td>\n",
       "      <td>112</td>\n",
       "      <td>2017</td>\n",
       "    </tr>\n",
       "    <tr>\n",
       "      <th>2</th>\n",
       "      <td>Intel Xeon Platinum 8280</td>\n",
       "      <td>2.7</td>\n",
       "      <td>112</td>\n",
       "      <td>2019</td>\n",
       "    </tr>\n",
       "    <tr>\n",
       "      <th>3</th>\n",
       "      <td>Intel Xeon Platinum 8270</td>\n",
       "      <td>2.7</td>\n",
       "      <td>104</td>\n",
       "      <td>2022</td>\n",
       "    </tr>\n",
       "    <tr>\n",
       "      <th>4</th>\n",
       "      <td>Intel Xeon Platinum 8480+</td>\n",
       "      <td>2.0</td>\n",
       "      <td>112</td>\n",
       "      <td>2023</td>\n",
       "    </tr>\n",
       "  </tbody>\n",
       "</table>\n",
       "</div>"
      ],
      "text/plain": [
       "                   Processor  Frequency (GHz)  # Cores  Published\n",
       "0      Intel Xeon E7-8890 v4              2.2       96       2016\n",
       "1   Intel Xeon Platinum 8180              2.5      112       2017\n",
       "2   Intel Xeon Platinum 8280              2.7      112       2019\n",
       "3   Intel Xeon Platinum 8270              2.7      104       2022\n",
       "4  Intel Xeon Platinum 8480+              2.0      112       2023\n",
       "0      Intel Xeon E7-8890 v4              2.2       96       2016\n",
       "1   Intel Xeon Platinum 8180              2.5      112       2017\n",
       "2   Intel Xeon Platinum 8280              2.7      112       2019\n",
       "3   Intel Xeon Platinum 8270              2.7      104       2022\n",
       "4  Intel Xeon Platinum 8480+              2.0      112       2023"
      ]
     },
     "metadata": {},
     "output_type": "display_data"
    }
   ],
   "source": [
    "df2 = render_csv(\"cpu2017-results-2023.csv\")\n",
    "df3 = pd.concat([df,df2])\n",
    "display(df3[[\"Processor\", \"Frequency (GHz)\", \"# Cores\", \"Published\"]])"
   ]
  },
  {
   "cell_type": "markdown",
   "metadata": {
    "deletable": false,
    "editable": false,
    "tags": []
   },
   "source": [
    "### Plotting Results\n",
    "\n",
    "[Matplotlib](https://matplotlib.org/) is an extremely flexible and powerful plotting tool that we could spend a whole quarter on.  Fortunately, `notebook.py` has some convenient helper functions in it that make it easy graph data in data frames.\n",
    "\n",
    "One of those helpers in `plotPEBar`.  The cell below, creates a dataframe and then plots several bar charts. The `what` parameter is a list of tuples (pairs of values in `(` and `)`).  The first value in each tuple is what ends up on the x-axis.  The second item of the tuple is plotted on the y axis.  You can plot as many bar charts as you want and it'll plot all the entries in the dataframe:"
   ]
  },
  {
   "cell_type": "code",
   "execution_count": 18,
   "metadata": {
    "deleteable": false,
    "editable": false,
    "tags": []
   },
   "outputs": [
    {
     "data": {
      "image/png": "[encoded data removed]",
      "text/plain": [
       "<Figure size 1600x400 with 1 Axes>"
      ]
     },
     "metadata": {},
     "output_type": "display_data"
    },
    {
     "data": {
      "image/png": "[encoded data removed]",
      "text/plain": [
       "<Figure size 1600x400 with 2 Axes>"
      ]
     },
     "metadata": {},
     "output_type": "display_data"
    }
   ],
   "source": [
    "df = render_csv(\"cpu2017-results-2023.csv\")\n",
    "plotPEBar(\"cpu2017-results-2023.csv\", what=[(\"Processor\", \"Frequency (GHz)\")])\n",
    "plotPEBar(\"cpu2017-results-2023.csv\", what=[(\"Processor\", \"Frequency (GHz)\"),(\"Processor\", \"SpecRate\")])"
   ]
  },
  {
   "cell_type": "markdown",
   "metadata": {
    "deletable": false,
    "editable": false,
    "tags": []
   },
   "source": [
    "The other helper is `plotPE`.  The cell below plots a couple line charts. The `what` parameter is a list of tuples (pairs of values in `(` and `)`).  The first value in each tuple is what ends up on the x-axis.  The second item of the tuple is plotted on the y axis.  You can plot as many line charts as you want and it'll plot all the entries in the dataframe:"
   ]
  },
  {
   "cell_type": "code",
   "execution_count": 19,
   "metadata": {
    "deleteable": false,
    "editable": false,
    "tags": []
   },
   "outputs": [
    {
     "data": {
      "image/png": "[encoded data removed]",
      "text/plain": [
       "<Figure size 1600x400 with 2 Axes>"
      ]
     },
     "metadata": {},
     "output_type": "display_data"
    }
   ],
   "source": [
    "plotPE(\"cpu2017-results-2023.csv\", lines=True, what=[(\"# Cores\", \"SpecRate\"),(\"SpecRate\",\"Frequency (GHz)\")])"
   ]
  },
  {
   "cell_type": "markdown",
   "metadata": {
    "deletable": false,
    "editable": false,
    "tags": []
   },
   "source": [
    "### Doing Math on Data Frames\n",
    "\n",
    "Data frames also make it easy to do math on your data. For instance, can compute the per GHz performance `Frequency (GHz)` and `Base Result`:"
   ]
  },
  {
   "cell_type": "code",
   "execution_count": 20,
   "metadata": {
    "deleteable": false,
    "editable": false,
    "tags": []
   },
   "outputs": [
    {
     "data": {
      "text/html": [
       "<div>\n",
       "<style scoped>\n",
       "    .dataframe tbody tr th:only-of-type {\n",
       "        vertical-align: middle;\n",
       "    }\n",
       "\n",
       "    .dataframe tbody tr th {\n",
       "        vertical-align: top;\n",
       "    }\n",
       "\n",
       "    .dataframe thead th {\n",
       "        text-align: right;\n",
       "    }\n",
       "</style>\n",
       "<table border=\"1\" class=\"dataframe\">\n",
       "  <thead>\n",
       "    <tr style=\"text-align: right;\">\n",
       "      <th></th>\n",
       "      <th>Processor</th>\n",
       "      <th>Frequency (GHz)</th>\n",
       "      <th>SpecRate</th>\n",
       "      <th># Cores</th>\n",
       "      <th># Chips</th>\n",
       "      <th>Published</th>\n",
       "      <th>Performance per GHz</th>\n",
       "    </tr>\n",
       "  </thead>\n",
       "  <tbody>\n",
       "    <tr>\n",
       "      <th>0</th>\n",
       "      <td>Intel Xeon E7-8890 v4</td>\n",
       "      <td>2.2</td>\n",
       "      <td>318</td>\n",
       "      <td>96</td>\n",
       "      <td>4</td>\n",
       "      <td>2016</td>\n",
       "      <td>143.545455</td>\n",
       "    </tr>\n",
       "    <tr>\n",
       "      <th>1</th>\n",
       "      <td>Intel Xeon Platinum 8180</td>\n",
       "      <td>2.5</td>\n",
       "      <td>580</td>\n",
       "      <td>112</td>\n",
       "      <td>4</td>\n",
       "      <td>2017</td>\n",
       "      <td>231.000000</td>\n",
       "    </tr>\n",
       "    <tr>\n",
       "      <th>2</th>\n",
       "      <td>Intel Xeon Platinum 8280</td>\n",
       "      <td>2.7</td>\n",
       "      <td>653</td>\n",
       "      <td>112</td>\n",
       "      <td>4</td>\n",
       "      <td>2019</td>\n",
       "      <td>240.851852</td>\n",
       "    </tr>\n",
       "    <tr>\n",
       "      <th>3</th>\n",
       "      <td>Intel Xeon Platinum 8270</td>\n",
       "      <td>2.7</td>\n",
       "      <td>695</td>\n",
       "      <td>104</td>\n",
       "      <td>4</td>\n",
       "      <td>2022</td>\n",
       "      <td>256.407407</td>\n",
       "    </tr>\n",
       "    <tr>\n",
       "      <th>4</th>\n",
       "      <td>Intel Xeon Platinum 8480+</td>\n",
       "      <td>2.0</td>\n",
       "      <td>927</td>\n",
       "      <td>112</td>\n",
       "      <td>2</td>\n",
       "      <td>2023</td>\n",
       "      <td>462.500000</td>\n",
       "    </tr>\n",
       "  </tbody>\n",
       "</table>\n",
       "</div>"
      ],
      "text/plain": [
       "                   Processor  Frequency (GHz)  SpecRate  # Cores  # Chips   \\\n",
       "0      Intel Xeon E7-8890 v4              2.2       318       96         4   \n",
       "1   Intel Xeon Platinum 8180              2.5       580      112         4   \n",
       "2   Intel Xeon Platinum 8280              2.7       653      112         4   \n",
       "3   Intel Xeon Platinum 8270              2.7       695      104         4   \n",
       "4  Intel Xeon Platinum 8480+              2.0       927      112         2   \n",
       "\n",
       "   Published  Performance per GHz  \n",
       "0       2016           143.545455  \n",
       "1       2017           231.000000  \n",
       "2       2019           240.851852  \n",
       "3       2022           256.407407  \n",
       "4       2023           462.500000  "
      ]
     },
     "metadata": {},
     "output_type": "display_data"
    }
   ],
   "source": [
    "df[\"Performance per GHz\"] = df[\"SpecRate\"]/df[\"Frequency (GHz)\"] - 1\n",
    "display(df)"
   ]
  },
  {
   "cell_type": "code",
   "execution_count": 81,
   "metadata": {},
   "outputs": [
    {
     "data": {
      "text/html": [
       "<div>\n",
       "<style scoped>\n",
       "    .dataframe tbody tr th:only-of-type {\n",
       "        vertical-align: middle;\n",
       "    }\n",
       "\n",
       "    .dataframe tbody tr th {\n",
       "        vertical-align: top;\n",
       "    }\n",
       "\n",
       "    .dataframe thead th {\n",
       "        text-align: right;\n",
       "    }\n",
       "</style>\n",
       "<table border=\"1\" class=\"dataframe\">\n",
       "  <thead>\n",
       "    <tr style=\"text-align: right;\">\n",
       "      <th></th>\n",
       "      <th>Processor</th>\n",
       "      <th>Frequency (GHz)</th>\n",
       "      <th>SpecRate</th>\n",
       "      <th># Cores</th>\n",
       "      <th># Chips</th>\n",
       "      <th>Published</th>\n",
       "      <th>Performance per GHz</th>\n",
       "    </tr>\n",
       "  </thead>\n",
       "  <tbody>\n",
       "    <tr>\n",
       "      <th>0</th>\n",
       "      <td>Intel Xeon E7-8890 v4</td>\n",
       "      <td>2.2</td>\n",
       "      <td>318</td>\n",
       "      <td>96</td>\n",
       "      <td>4</td>\n",
       "      <td>2016</td>\n",
       "      <td>143.545455</td>\n",
       "    </tr>\n",
       "    <tr>\n",
       "      <th>1</th>\n",
       "      <td>Intel Xeon Platinum 8180</td>\n",
       "      <td>2.5</td>\n",
       "      <td>580</td>\n",
       "      <td>112</td>\n",
       "      <td>4</td>\n",
       "      <td>2017</td>\n",
       "      <td>231.000000</td>\n",
       "    </tr>\n",
       "    <tr>\n",
       "      <th>2</th>\n",
       "      <td>Intel Xeon Platinum 8280</td>\n",
       "      <td>2.7</td>\n",
       "      <td>653</td>\n",
       "      <td>112</td>\n",
       "      <td>4</td>\n",
       "      <td>2019</td>\n",
       "      <td>240.851852</td>\n",
       "    </tr>\n",
       "    <tr>\n",
       "      <th>3</th>\n",
       "      <td>Intel Xeon Platinum 8270</td>\n",
       "      <td>2.7</td>\n",
       "      <td>695</td>\n",
       "      <td>104</td>\n",
       "      <td>4</td>\n",
       "      <td>2022</td>\n",
       "      <td>256.407407</td>\n",
       "    </tr>\n",
       "    <tr>\n",
       "      <th>4</th>\n",
       "      <td>Intel Xeon Platinum 8480+</td>\n",
       "      <td>2.0</td>\n",
       "      <td>927</td>\n",
       "      <td>112</td>\n",
       "      <td>2</td>\n",
       "      <td>2023</td>\n",
       "      <td>462.500000</td>\n",
       "    </tr>\n",
       "  </tbody>\n",
       "</table>\n",
       "</div>"
      ],
      "text/plain": [
       "                   Processor  Frequency (GHz)  SpecRate  # Cores  # Chips   \\\n",
       "0      Intel Xeon E7-8890 v4              2.2       318       96         4   \n",
       "1   Intel Xeon Platinum 8180              2.5       580      112         4   \n",
       "2   Intel Xeon Platinum 8280              2.7       653      112         4   \n",
       "3   Intel Xeon Platinum 8270              2.7       695      104         4   \n",
       "4  Intel Xeon Platinum 8480+              2.0       927      112         2   \n",
       "\n",
       "   Published  Performance per GHz  \n",
       "0       2016           143.545455  \n",
       "1       2017           231.000000  \n",
       "2       2019           240.851852  \n",
       "3       2022           256.407407  \n",
       "4       2023           462.500000  "
      ]
     },
     "execution_count": 81,
     "metadata": {},
     "output_type": "execute_result"
    }
   ],
   "source": [
    "df"
   ]
  },
  {
   "cell_type": "code",
   "execution_count": 20,
   "metadata": {
    "deleteable": false,
    "editable": false,
    "tags": []
   },
   "outputs": [
    {
     "data": {
      "text/html": [
       "<div>\n",
       "<style scoped>\n",
       "    .dataframe tbody tr th:only-of-type {\n",
       "        vertical-align: middle;\n",
       "    }\n",
       "\n",
       "    .dataframe tbody tr th {\n",
       "        vertical-align: top;\n",
       "    }\n",
       "\n",
       "    .dataframe thead th {\n",
       "        text-align: right;\n",
       "    }\n",
       "</style>\n",
       "<table border=\"1\" class=\"dataframe\">\n",
       "  <thead>\n",
       "    <tr style=\"text-align: right;\">\n",
       "      <th></th>\n",
       "      <th>Processor</th>\n",
       "      <th>Frequency (GHz)</th>\n",
       "      <th>SpecRate</th>\n",
       "      <th># Cores</th>\n",
       "      <th># Chips</th>\n",
       "      <th>Published</th>\n",
       "      <th>Performance per GHz</th>\n",
       "    </tr>\n",
       "  </thead>\n",
       "  <tbody>\n",
       "    <tr>\n",
       "      <th>0</th>\n",
       "      <td>Intel Xeon E7-8890 v4</td>\n",
       "      <td>2.2</td>\n",
       "      <td>318</td>\n",
       "      <td>96</td>\n",
       "      <td>4</td>\n",
       "      <td>2016</td>\n",
       "      <td>143.545455</td>\n",
       "    </tr>\n",
       "    <tr>\n",
       "      <th>1</th>\n",
       "      <td>Intel Xeon Platinum 8180</td>\n",
       "      <td>2.5</td>\n",
       "      <td>580</td>\n",
       "      <td>112</td>\n",
       "      <td>4</td>\n",
       "      <td>2017</td>\n",
       "      <td>231.000000</td>\n",
       "    </tr>\n",
       "    <tr>\n",
       "      <th>2</th>\n",
       "      <td>Intel Xeon Platinum 8280</td>\n",
       "      <td>2.7</td>\n",
       "      <td>653</td>\n",
       "      <td>112</td>\n",
       "      <td>4</td>\n",
       "      <td>2019</td>\n",
       "      <td>240.851852</td>\n",
       "    </tr>\n",
       "    <tr>\n",
       "      <th>3</th>\n",
       "      <td>Intel Xeon Platinum 8270</td>\n",
       "      <td>2.7</td>\n",
       "      <td>695</td>\n",
       "      <td>104</td>\n",
       "      <td>4</td>\n",
       "      <td>2022</td>\n",
       "      <td>256.407407</td>\n",
       "    </tr>\n",
       "    <tr>\n",
       "      <th>4</th>\n",
       "      <td>Intel Xeon Platinum 8480+</td>\n",
       "      <td>2.0</td>\n",
       "      <td>927</td>\n",
       "      <td>112</td>\n",
       "      <td>2</td>\n",
       "      <td>2023</td>\n",
       "      <td>462.500000</td>\n",
       "    </tr>\n",
       "  </tbody>\n",
       "</table>\n",
       "</div>"
      ],
      "text/plain": [
       "                   Processor  Frequency (GHz)  SpecRate  # Cores  # Chips   \\\n",
       "0      Intel Xeon E7-8890 v4              2.2       318       96         4   \n",
       "1   Intel Xeon Platinum 8180              2.5       580      112         4   \n",
       "2   Intel Xeon Platinum 8280              2.7       653      112         4   \n",
       "3   Intel Xeon Platinum 8270              2.7       695      104         4   \n",
       "4  Intel Xeon Platinum 8480+              2.0       927      112         2   \n",
       "\n",
       "   Published  Performance per GHz  \n",
       "0       2016           143.545455  \n",
       "1       2017           231.000000  \n",
       "2       2019           240.851852  \n",
       "3       2022           256.407407  \n",
       "4       2023           462.500000  "
      ]
     },
     "metadata": {},
     "output_type": "display_data"
    }
   ],
   "source": [
    "df[\"Performance per GHz\"] = df[\"SpecRate\"]/df[\"Frequency (GHz)\"] - 1\n",
    "display(df)"
   ]
  },
  {
   "cell_type": "markdown",
   "metadata": {
    "deletable": false,
    "editable": false,
    "tags": []
   },
   "source": [
    "Or the performance between processors"
   ]
  },
  {
   "cell_type": "code",
   "execution_count": 21,
   "metadata": {
    "deleteable": false,
    "editable": false,
    "tags": []
   },
   "outputs": [
    {
     "data": {
      "text/plain": [
       "0.5482758620689655"
      ]
     },
     "execution_count": 21,
     "metadata": {},
     "output_type": "execute_result"
    }
   ],
   "source": [
    "df.at[0,\"SpecRate\"]/df.at[1,\"SpecRate\"]"
   ]
  },
  {
   "cell_type": "markdown",
   "metadata": {
    "cs203.is_response": true,
    "cs203.points": 1,
    "cs203.question_type": "correctness",
    "editable": false,
    "solution2": "hidden",
    "solution2_first": true,
    "tags": []
   },
   "source": [
    "<div class=\"alert alert-block alert-success\">\n",
    "<div class='question correctness'>\n",
    "\n",
    "## Question 7 (Correctness)\n",
    "<div class=\"question-text\">\n",
    "Can you draw a figure or a set of figures that shows the \n",
    "the most correlating factor/column to the SpecRate column in the given spreadsheet.\n",
    "</div>\n",
    "</div>"
   ]
  },
  {
   "cell_type": "code",
   "execution_count": 24,
   "metadata": {
    "cs203.is_response": true,
    "deletable": false,
    "editable": true,
    "tags": []
   },
   "outputs": [
    {
     "name": "stderr",
     "output_type": "stream",
     "text": [
      "/tmp/ipykernel_2073896/3149752966.py:2: FutureWarning: The default value of numeric_only in DataFrame.corr is deprecated. In a future version, it will default to False. Select only valid columns or specify the value of numeric_only to silence this warning.\n",
      "  factors_corr = df.corr()['SpecRate']\n"
     ]
    },
    {
     "data": {
      "text/plain": [
       "Frequency (GHz)       -0.129682\n",
       "SpecRate               1.000000\n",
       "# Cores                0.729434\n",
       "# Chips               -0.744715\n",
       "Published              0.900051\n",
       "Performance per GHz    0.938423\n",
       "Name: SpecRate, dtype: float64"
      ]
     },
     "metadata": {},
     "output_type": "display_data"
    },
    {
     "data": {
      "image/png": "[encoded data removed]",
      "text/plain": [
       "<Figure size 1600x400 with 1 Axes>"
      ]
     },
     "metadata": {},
     "output_type": "display_data"
    }
   ],
   "source": [
    "#Put your commands here\n",
    "factors_corr = df.corr()['SpecRate']\n",
    "display(factors_corr)\n",
    "plotPE(df=df, lines = True, what = [(\"Performance per GHz\",\"SpecRate\")])"
   ]
  },
  {
   "cell_type": "markdown",
   "metadata": {
    "deleteable": false,
    "editable": false,
    "tags": []
   },
   "source": [
    "# Programming Assignment"
   ]
  },
  {
   "cell_type": "markdown",
   "metadata": {
    "deleteable": false,
    "editable": false,
    "tags": []
   },
   "source": [
    "The assignments will all have a programming assignment as part of them.  The main purpose of this one is to get you familiar with the autograding submission process.  It doesn't require any challenging programming.\n",
    "\n",
    "In the assignment directory, you'll find `hello_world2.cpp`:"
   ]
  },
  {
   "cell_type": "code",
   "execution_count": 71,
   "metadata": {
    "deleteable": false,
    "editable": false,
    "init_cell": true,
    "tags": []
   },
   "outputs": [
    {
     "data": {
      "text/html": [
       "<style>pre { line-height: 125%; }\n",
       "td.linenos .normal { color: inherit; background-color: transparent; padding-left: 5px; padding-right: 5px; }\n",
       "span.linenos { color: inherit; background-color: transparent; padding-left: 5px; padding-right: 5px; }\n",
       "td.linenos .special { color: #000000; background-color: #ffffc0; padding-left: 5px; padding-right: 5px; }\n",
       "span.linenos.special { color: #000000; background-color: #ffffc0; padding-left: 5px; padding-right: 5px; }\n",
       ".output_html .hll { background-color: #ffffcc }\n",
       ".output_html { background: #f8f8f8; }\n",
       ".output_html .c { color: #3D7B7B; font-style: italic } /* Comment */\n",
       ".output_html .err { border: 1px solid #FF0000 } /* Error */\n",
       ".output_html .k { color: #008000; font-weight: bold } /* Keyword */\n",
       ".output_html .o { color: #666666 } /* Operator */\n",
       ".output_html .ch { color: #3D7B7B; font-style: italic } /* Comment.Hashbang */\n",
       ".output_html .cm { color: #3D7B7B; font-style: italic } /* Comment.Multiline */\n",
       ".output_html .cp { color: #9C6500 } /* Comment.Preproc */\n",
       ".output_html .cpf { color: #3D7B7B; font-style: italic } /* Comment.PreprocFile */\n",
       ".output_html .c1 { color: #3D7B7B; font-style: italic } /* Comment.Single */\n",
       ".output_html .cs { color: #3D7B7B; font-style: italic } /* Comment.Special */\n",
       ".output_html .gd { color: #A00000 } /* Generic.Deleted */\n",
       ".output_html .ge { font-style: italic } /* Generic.Emph */\n",
       ".output_html .gr { color: #E40000 } /* Generic.Error */\n",
       ".output_html .gh { color: #000080; font-weight: bold } /* Generic.Heading */\n",
       ".output_html .gi { color: #008400 } /* Generic.Inserted */\n",
       ".output_html .go { color: #717171 } /* Generic.Output */\n",
       ".output_html .gp { color: #000080; font-weight: bold } /* Generic.Prompt */\n",
       ".output_html .gs { font-weight: bold } /* Generic.Strong */\n",
       ".output_html .gu { color: #800080; font-weight: bold } /* Generic.Subheading */\n",
       ".output_html .gt { color: #0044DD } /* Generic.Traceback */\n",
       ".output_html .kc { color: #008000; font-weight: bold } /* Keyword.Constant */\n",
       ".output_html .kd { color: #008000; font-weight: bold } /* Keyword.Declaration */\n",
       ".output_html .kn { color: #008000; font-weight: bold } /* Keyword.Namespace */\n",
       ".output_html .kp { color: #008000 } /* Keyword.Pseudo */\n",
       ".output_html .kr { color: #008000; font-weight: bold } /* Keyword.Reserved */\n",
       ".output_html .kt { color: #B00040 } /* Keyword.Type */\n",
       ".output_html .m { color: #666666 } /* Literal.Number */\n",
       ".output_html .s { color: #BA2121 } /* Literal.String */\n",
       ".output_html .na { color: #687822 } /* Name.Attribute */\n",
       ".output_html .nb { color: #008000 } /* Name.Builtin */\n",
       ".output_html .nc { color: #0000FF; font-weight: bold } /* Name.Class */\n",
       ".output_html .no { color: #880000 } /* Name.Constant */\n",
       ".output_html .nd { color: #AA22FF } /* Name.Decorator */\n",
       ".output_html .ni { color: #717171; font-weight: bold } /* Name.Entity */\n",
       ".output_html .ne { color: #CB3F38; font-weight: bold } /* Name.Exception */\n",
       ".output_html .nf { color: #0000FF } /* Name.Function */\n",
       ".output_html .nl { color: #767600 } /* Name.Label */\n",
       ".output_html .nn { color: #0000FF; font-weight: bold } /* Name.Namespace */\n",
       ".output_html .nt { color: #008000; font-weight: bold } /* Name.Tag */\n",
       ".output_html .nv { color: #19177C } /* Name.Variable */\n",
       ".output_html .ow { color: #AA22FF; font-weight: bold } /* Operator.Word */\n",
       ".output_html .w { color: #bbbbbb } /* Text.Whitespace */\n",
       ".output_html .mb { color: #666666 } /* Literal.Number.Bin */\n",
       ".output_html .mf { color: #666666 } /* Literal.Number.Float */\n",
       ".output_html .mh { color: #666666 } /* Literal.Number.Hex */\n",
       ".output_html .mi { color: #666666 } /* Literal.Number.Integer */\n",
       ".output_html .mo { color: #666666 } /* Literal.Number.Oct */\n",
       ".output_html .sa { color: #BA2121 } /* Literal.String.Affix */\n",
       ".output_html .sb { color: #BA2121 } /* Literal.String.Backtick */\n",
       ".output_html .sc { color: #BA2121 } /* Literal.String.Char */\n",
       ".output_html .dl { color: #BA2121 } /* Literal.String.Delimiter */\n",
       ".output_html .sd { color: #BA2121; font-style: italic } /* Literal.String.Doc */\n",
       ".output_html .s2 { color: #BA2121 } /* Literal.String.Double */\n",
       ".output_html .se { color: #AA5D1F; font-weight: bold } /* Literal.String.Escape */\n",
       ".output_html .sh { color: #BA2121 } /* Literal.String.Heredoc */\n",
       ".output_html .si { color: #A45A77; font-weight: bold } /* Literal.String.Interpol */\n",
       ".output_html .sx { color: #008000 } /* Literal.String.Other */\n",
       ".output_html .sr { color: #A45A77 } /* Literal.String.Regex */\n",
       ".output_html .s1 { color: #BA2121 } /* Literal.String.Single */\n",
       ".output_html .ss { color: #19177C } /* Literal.String.Symbol */\n",
       ".output_html .bp { color: #008000 } /* Name.Builtin.Pseudo */\n",
       ".output_html .fm { color: #0000FF } /* Name.Function.Magic */\n",
       ".output_html .vc { color: #19177C } /* Name.Variable.Class */\n",
       ".output_html .vg { color: #19177C } /* Name.Variable.Global */\n",
       ".output_html .vi { color: #19177C } /* Name.Variable.Instance */\n",
       ".output_html .vm { color: #19177C } /* Name.Variable.Magic */\n",
       ".output_html .il { color: #666666 } /* Literal.Number.Integer.Long */</style><div class=\"highlight\"><pre><span></span><span class=\"c1\">// hello_world2.cpp:3-17 (15 lines)</span>\n",
       "<span class=\"kt\">int</span><span class=\"w\"> </span><span class=\"nf\">main</span><span class=\"p\">(</span><span class=\"kt\">int</span><span class=\"w\"> </span><span class=\"n\">argc</span><span class=\"p\">,</span><span class=\"w\"> </span><span class=\"kt\">char</span><span class=\"w\"> </span><span class=\"o\">*</span><span class=\"n\">argv</span><span class=\"p\">[])</span><span class=\"w\"></span>\n",
       "<span class=\"p\">{</span><span class=\"w\"></span>\n",
       "<span class=\"w\">    </span><span class=\"kt\">int</span><span class=\"w\"> </span><span class=\"n\">total</span><span class=\"o\">=</span><span class=\"mi\">0</span><span class=\"p\">;</span><span class=\"w\"></span>\n",
       "<span class=\"w\">    </span><span class=\"kt\">char</span><span class=\"w\"> </span><span class=\"o\">*</span><span class=\"n\">endptr</span><span class=\"p\">;</span><span class=\"w\"></span>\n",
       "<span class=\"w\">    </span><span class=\"k\">for</span><span class=\"p\">(</span><span class=\"kt\">int</span><span class=\"w\"> </span><span class=\"n\">a</span><span class=\"o\">=</span><span class=\"mi\">1</span><span class=\"p\">;</span><span class=\"n\">a</span><span class=\"o\">&lt;</span><span class=\"n\">argc</span><span class=\"p\">;</span><span class=\"n\">a</span><span class=\"o\">++</span><span class=\"p\">){</span><span class=\"w\"></span>\n",
       "<span class=\"w\">        </span><span class=\"kt\">int</span><span class=\"w\"> </span><span class=\"n\">b</span><span class=\"w\"> </span><span class=\"o\">=</span><span class=\"w\"> </span><span class=\"n\">std</span><span class=\"o\">::</span><span class=\"n\">strtol</span><span class=\"p\">(</span><span class=\"n\">argv</span><span class=\"p\">[</span><span class=\"n\">a</span><span class=\"p\">],</span><span class=\"w\"> </span><span class=\"o\">&amp;</span><span class=\"n\">endptr</span><span class=\"p\">,</span><span class=\"w\"> </span><span class=\"mi\">10</span><span class=\"p\">);</span><span class=\"w\"></span>\n",
       "<span class=\"w\">        </span><span class=\"k\">if</span><span class=\"w\"> </span><span class=\"p\">(</span><span class=\"o\">*</span><span class=\"n\">endptr</span><span class=\"w\"> </span><span class=\"o\">==</span><span class=\"w\"> </span><span class=\"sc\">&#39;\\0&#39;</span><span class=\"p\">)</span><span class=\"w\"></span>\n",
       "<span class=\"w\">            </span><span class=\"n\">total</span><span class=\"w\"> </span><span class=\"o\">+=</span><span class=\"w\"> </span><span class=\"n\">b</span><span class=\"p\">;}</span><span class=\"w\"></span>\n",
       "<span class=\"w\">\t</span><span class=\"n\">std</span><span class=\"o\">::</span><span class=\"n\">ofstream</span><span class=\"w\"> </span><span class=\"n\">ofs</span><span class=\"w\"> </span><span class=\"p\">(</span><span class=\"s\">&quot;hello.txt&quot;</span><span class=\"p\">,</span><span class=\"w\"> </span><span class=\"n\">std</span><span class=\"o\">::</span><span class=\"n\">ofstream</span><span class=\"o\">::</span><span class=\"n\">out</span><span class=\"p\">);</span><span class=\"w\"></span>\n",
       "<span class=\"w\">\t</span><span class=\"n\">ofs</span><span class=\"w\"> </span><span class=\"o\">&lt;&lt;</span><span class=\"w\"> </span><span class=\"s\">&quot;Hello amoha121@ucr.edu! &quot;</span><span class=\"p\">;</span><span class=\"w\"></span>\n",
       "<span class=\"w\">    </span><span class=\"n\">ofs</span><span class=\"w\"> </span><span class=\"o\">&lt;&lt;</span><span class=\"w\"> </span><span class=\"s\">&quot;</span><span class=\"se\">\\n</span><span class=\"s\">The sum of your inputs is: &quot;</span><span class=\"w\"> </span><span class=\"o\">&lt;&lt;</span><span class=\"w\"> </span><span class=\"s\">&quot;</span><span class=\"se\">\\n</span><span class=\"s\">&quot;</span><span class=\"o\">&lt;&lt;</span><span class=\"n\">total</span><span class=\"p\">;</span><span class=\"w\"></span>\n",
       "<span class=\"w\">\t</span><span class=\"n\">ofs</span><span class=\"p\">.</span><span class=\"n\">close</span><span class=\"p\">();</span><span class=\"w\"></span>\n",
       "<span class=\"w\">\t</span><span class=\"n\">std</span><span class=\"o\">::</span><span class=\"n\">cout</span><span class=\"w\"> </span><span class=\"o\">&lt;&lt;</span><span class=\"w\"> </span><span class=\"s\">&quot;Execution Complete&quot;</span><span class=\"w\"> </span><span class=\"o\">&lt;&lt;</span><span class=\"w\"> </span><span class=\"n\">std</span><span class=\"o\">::</span><span class=\"n\">endl</span><span class=\"p\">;</span><span class=\"w\"></span>\n",
       "<span class=\"w\">\t</span><span class=\"k\">return</span><span class=\"w\"> </span><span class=\"mi\">0</span><span class=\"p\">;</span><span class=\"w\">  </span>\n",
       "<span class=\"p\">}</span><span class=\"w\"></span>\n",
       "</pre></div>\n"
      ],
      "text/latex": [
       "\\begin{Verbatim}[commandchars=\\\\\\{\\}]\n",
       "\\PY{c+c1}{// hello\\PYZus{}world2.cpp:3\\PYZhy{}17 (15 lines)}\n",
       "\\PY{k+kt}{int}\\PY{+w}{ }\\PY{n+nf}{main}\\PY{p}{(}\\PY{k+kt}{int}\\PY{+w}{ }\\PY{n}{argc}\\PY{p}{,}\\PY{+w}{ }\\PY{k+kt}{char}\\PY{+w}{ }\\PY{o}{*}\\PY{n}{argv}\\PY{p}{[}\\PY{p}{]}\\PY{p}{)}\n",
       "\\PY{p}{\\PYZob{}}\n",
       "\\PY{+w}{    }\\PY{k+kt}{int}\\PY{+w}{ }\\PY{n}{total}\\PY{o}{=}\\PY{l+m+mi}{0}\\PY{p}{;}\n",
       "\\PY{+w}{    }\\PY{k+kt}{char}\\PY{+w}{ }\\PY{o}{*}\\PY{n}{endptr}\\PY{p}{;}\n",
       "\\PY{+w}{    }\\PY{k}{for}\\PY{p}{(}\\PY{k+kt}{int}\\PY{+w}{ }\\PY{n}{a}\\PY{o}{=}\\PY{l+m+mi}{1}\\PY{p}{;}\\PY{n}{a}\\PY{o}{\\PYZlt{}}\\PY{n}{argc}\\PY{p}{;}\\PY{n}{a}\\PY{o}{+}\\PY{o}{+}\\PY{p}{)}\\PY{p}{\\PYZob{}}\n",
       "\\PY{+w}{        }\\PY{k+kt}{int}\\PY{+w}{ }\\PY{n}{b}\\PY{+w}{ }\\PY{o}{=}\\PY{+w}{ }\\PY{n}{std}\\PY{o}{:}\\PY{o}{:}\\PY{n}{strtol}\\PY{p}{(}\\PY{n}{argv}\\PY{p}{[}\\PY{n}{a}\\PY{p}{]}\\PY{p}{,}\\PY{+w}{ }\\PY{o}{\\PYZam{}}\\PY{n}{endptr}\\PY{p}{,}\\PY{+w}{ }\\PY{l+m+mi}{10}\\PY{p}{)}\\PY{p}{;}\n",
       "\\PY{+w}{        }\\PY{k}{if}\\PY{+w}{ }\\PY{p}{(}\\PY{o}{*}\\PY{n}{endptr}\\PY{+w}{ }\\PY{o}{=}\\PY{o}{=}\\PY{+w}{ }\\PY{l+s+sc}{\\PYZsq{}}\\PY{l+s+sc}{\\PYZbs{}0}\\PY{l+s+sc}{\\PYZsq{}}\\PY{p}{)}\n",
       "\\PY{+w}{            }\\PY{n}{total}\\PY{+w}{ }\\PY{o}{+}\\PY{o}{=}\\PY{+w}{ }\\PY{n}{b}\\PY{p}{;}\\PY{p}{\\PYZcb{}}\n",
       "\\PY{+w}{\t}\\PY{n}{std}\\PY{o}{:}\\PY{o}{:}\\PY{n}{ofstream}\\PY{+w}{ }\\PY{n}{ofs}\\PY{+w}{ }\\PY{p}{(}\\PY{l+s}{\\PYZdq{}}\\PY{l+s}{hello.txt}\\PY{l+s}{\\PYZdq{}}\\PY{p}{,}\\PY{+w}{ }\\PY{n}{std}\\PY{o}{:}\\PY{o}{:}\\PY{n}{ofstream}\\PY{o}{:}\\PY{o}{:}\\PY{n}{out}\\PY{p}{)}\\PY{p}{;}\n",
       "\\PY{+w}{\t}\\PY{n}{ofs}\\PY{+w}{ }\\PY{o}{\\PYZlt{}}\\PY{o}{\\PYZlt{}}\\PY{+w}{ }\\PY{l+s}{\\PYZdq{}}\\PY{l+s}{Hello amoha121@ucr.edu! }\\PY{l+s}{\\PYZdq{}}\\PY{p}{;}\n",
       "\\PY{+w}{    }\\PY{n}{ofs}\\PY{+w}{ }\\PY{o}{\\PYZlt{}}\\PY{o}{\\PYZlt{}}\\PY{+w}{ }\\PY{l+s}{\\PYZdq{}}\\PY{l+s+se}{\\PYZbs{}n}\\PY{l+s}{The sum of your inputs is: }\\PY{l+s}{\\PYZdq{}}\\PY{+w}{ }\\PY{o}{\\PYZlt{}}\\PY{o}{\\PYZlt{}}\\PY{+w}{ }\\PY{l+s}{\\PYZdq{}}\\PY{l+s+se}{\\PYZbs{}n}\\PY{l+s}{\\PYZdq{}}\\PY{o}{\\PYZlt{}}\\PY{o}{\\PYZlt{}}\\PY{n}{total}\\PY{p}{;}\n",
       "\\PY{+w}{\t}\\PY{n}{ofs}\\PY{p}{.}\\PY{n}{close}\\PY{p}{(}\\PY{p}{)}\\PY{p}{;}\n",
       "\\PY{+w}{\t}\\PY{n}{std}\\PY{o}{:}\\PY{o}{:}\\PY{n}{cout}\\PY{+w}{ }\\PY{o}{\\PYZlt{}}\\PY{o}{\\PYZlt{}}\\PY{+w}{ }\\PY{l+s}{\\PYZdq{}}\\PY{l+s}{Execution Complete}\\PY{l+s}{\\PYZdq{}}\\PY{+w}{ }\\PY{o}{\\PYZlt{}}\\PY{o}{\\PYZlt{}}\\PY{+w}{ }\\PY{n}{std}\\PY{o}{:}\\PY{o}{:}\\PY{n}{endl}\\PY{p}{;}\n",
       "\\PY{+w}{\t}\\PY{k}{return}\\PY{+w}{ }\\PY{l+m+mi}{0}\\PY{p}{;}\\PY{+w}{  }\n",
       "\\PY{p}{\\PYZcb{}}\n",
       "\\end{Verbatim}\n"
      ],
      "text/plain": [
       "// hello_world2.cpp:3-17 (15 lines)\n",
       "int main(int argc, char *argv[])\n",
       "{\n",
       "    int total=0;\n",
       "    char *endptr;\n",
       "    for(int a=1;a<argc;a++){\n",
       "        int b = std::strtol(argv[a], &endptr, 10);\n",
       "        if (*endptr == '\\0')\n",
       "            total += b;}\n",
       "\tstd::ofstream ofs (\"hello.txt\", std::ofstream::out);\n",
       "\tofs << \"Hello amoha121@ucr.edu! \";\n",
       "    ofs << \"\\nThe sum of your inputs is: \" << \"\\n\"<<total;\n",
       "\tofs.close();\n",
       "\tstd::cout << \"Execution Complete\" << std::endl;\n",
       "\treturn 0;  \n",
       "}"
      ]
     },
     "metadata": {},
     "output_type": "display_data"
    }
   ],
   "source": [
    "render_code(\"hello_world2.cpp\", show=\"main\")"
   ]
  },
  {
   "cell_type": "markdown",
   "metadata": {
    "deletable": false,
    "editable": false,
    "tags": []
   },
   "source": [
    " Edit it so that it always writes \n",
    "\n",
    "```\n",
    "Hello <your @ucr.edu email address>!\n",
    "The sum of your inputs is:\n",
    "<sum_of_inputs>\n",
    "```\n",
    "\n",
    "to the file in the first line and produce a number that calculate the sum of integer numbers passing through the command line arguments.\n",
    "\n",
    "You can test it with:"
   ]
  },
  {
   "cell_type": "code",
   "execution_count": 75,
   "metadata": {
    "deleteable": false,
    "editable": false,
    "tags": []
   },
   "outputs": [
    {
     "name": "stdout",
     "output_type": "stream",
     "text": [
      "mkdir -p ./build/ \n",
      "cp  hello_world2.cpp ./build/hello_world2.cpp\n",
      "g++  -DHAVE_LINUX_PERF_EVENT_H -I/cs203/amoha121/2023sp-cs203-welcome-AparnaMohanUCR -g  -lm -pthread  -o ./build/hello_world2.o -c ./build/hello_world2.cpp\n",
      "g++  -DHAVE_LINUX_PERF_EVENT_H -I/cs203/amoha121/2023sp-cs203-welcome-AparnaMohanUCR -g  -lm -pthread  build/hello_world2.o -o hello_world2.exe\n",
      "Execution Complete\n",
      "Hello amoha121@ucr.edu! The sum of your inputs is: 45"
     ]
    }
   ],
   "source": [
    "!make hello_world2.exe\n",
    "!./hello_world2.exe `cat hello_world2.input`\n",
    "!cat hello.txt"
   ]
  },
  {
   "cell_type": "markdown",
   "metadata": {
    "editable": false
   },
   "source": [
    "And test it in the cloud like so:"
   ]
  },
  {
   "cell_type": "code",
   "execution_count": 76,
   "metadata": {
    "deleteable": false,
    "editable": false,
    "tags": []
   },
   "outputs": [
    {
     "name": "stdout",
     "output_type": "stream",
     "text": [
      "srun -N1 -p cs203 ./hello_world2.exe 1 2 3 4 5 6 7 8 9\n",
      "Execution Complete\n"
     ]
    }
   ],
   "source": [
    "!cs203 job run \"./hello_world2.exe `cat hello_world2.input`\""
   ]
  },
  {
   "cell_type": "markdown",
   "metadata": {
    "deleteable": false,
    "editable": false,
    "tags": []
   },
   "source": [
    "When your submit your code for autograding, it'll run in a more tightly controlled way that let's us reliably measure performance and grade your submission. You can simulate it like this:"
   ]
  },
  {
   "cell_type": "code",
   "execution_count": 77,
   "metadata": {
    "deleteable": false,
    "editable": false,
    "tags": []
   },
   "outputs": [
    {
     "name": "stdout",
     "output_type": "stream",
     "text": [
      "srun -N1 -p cs203 ./autograde.py  --submission . --results -\n",
      "{\n",
      "    \"output\": \"The autograder ran.\",\n",
      "    \"stdout_visibility\": \"visible\",\n",
      "    \"tests\": [\n",
      "        {\n",
      "            \"max_score\": 1,\n",
      "            \"number\": \"1\",\n",
      "            \"output\": \"Hello amoha121@ucr.edu! The sum of your inputs is: 45\",\n",
      "            \"score\": 1,\n",
      "            \"tags\": [],\n",
      "            \"visibility\": \"visible\"\n",
      "        }\n",
      "    ],\n",
      "    \"visibility\": \"visible\"\n",
      "}"
     ]
    }
   ],
   "source": [
    "!cs203 job run \"./autograde.py  --submission . --results -\""
   ]
  },
  {
   "cell_type": "code",
   "execution_count": 83,
   "metadata": {
    "deleteable": false,
    "editable": false,
    "tags": []
   },
   "outputs": [
    {
     "name": "stdout",
     "output_type": "stream",
     "text": [
      "[main 8d866aa] Yay! I finished the first assignment!\n",
      " 1 file changed, 8 insertions(+), 2 deletions(-)\n",
      "Enumerating objects: 5, done.\n",
      "Counting objects: 100% (5/5), done.\n",
      "Delta compression using up to 6 threads\n",
      "Compressing objects: 100% (3/3), done.\n",
      "Writing objects: 100% (3/3), 562 bytes | 112.00 KiB/s, done.\n",
      "Total 3 (delta 1), reused 0 (delta 0)\n",
      "remote: Resolving deltas: 100% (1/1), completed with 1 local object.\u001b[K\n",
      "To github.com:CS203UCR/2023sp-cs203-welcome-AparnaMohanUCR.git\n",
      "   95b9d30..8d866aa  main -> main\n"
     ]
    }
   ],
   "source": [
    "!git add hello_world2.cpp\n",
    "!git commit -m \"Yay! I finished the first assignment!\"\n",
    "!git push"
   ]
  },
  {
   "cell_type": "markdown",
   "metadata": {
    "deleteable": false,
    "editable": false,
    "tags": []
   },
   "source": [
    "If this asks you for a password, you'll need to interrupt your Jupyter notebook kernel and do it in a shell instead."
   ]
  },
  {
   "cell_type": "markdown",
   "metadata": {
    "deleteable": false,
    "editable": false,
    "tags": []
   },
   "source": [
    "# Turning In the Assignment"
   ]
  },
  {
   "cell_type": "markdown",
   "metadata": {
    "deleteable": false,
    "editable": false,
    "tags": []
   },
   "source": [
    "For each assignment, there are two different assignments on gradescope:\n",
    "\n",
    "1.  The assignment notebook.\n",
    "2.  The programming assignment.\n",
    "\n",
    "In addition, there's a post-assignment survey which is embedded below.\n",
    "\n",
    "## The Notebook\n",
    "\n",
    "You need to turn in your assignment notebook and your programming assignment separately.  There will \n",
    "After you complete the assignment, you will turn it in by creating a version of the notebook that only contains your answers and then printing that to a pdf.\n",
    "\n",
    "**Step 1:**  Save your workbook!!!"
   ]
  },
  {
   "cell_type": "code",
   "execution_count": 84,
   "metadata": {
    "deleteable": false,
    "editable": false,
    "tags": []
   },
   "outputs": [
    {
     "name": "stdout",
     "output_type": "stream",
     "text": [
      "Save your notebook!\n",
      "Save your notebook!\n",
      "Save your notebook!\n",
      "Save your notebook!\n",
      "Save your notebook!\n"
     ]
    }
   ],
   "source": [
    "!for i in 1 2 3 4 5; do echo Save your notebook!; sleep 1; done"
   ]
  },
  {
   "cell_type": "markdown",
   "metadata": {
    "deleteable": false,
    "editable": false,
    "tags": []
   },
   "source": [
    "**Step 2:**  Run this command:"
   ]
  },
  {
   "cell_type": "code",
   "execution_count": 80,
   "metadata": {
    "deleteable": false,
    "editable": false,
    "tags": []
   },
   "outputs": [
    {
     "name": "stdout",
     "output_type": "stream",
     "text": [
      "Wrote to Assignment.turnin.ipynb\n",
      "-rw-r--r-- 1 amoha121 cs203 50K Apr 12 19:58 Assignment.turnin.ipynb\n"
     ]
    }
   ],
   "source": [
    "!cs203 turnin Assignment.ipynb\n",
    "!ls -lh Assignment.turnin.ipynb"
   ]
  },
  {
   "cell_type": "markdown",
   "metadata": {
    "deleteable": false,
    "editable": false,
    "tags": []
   },
   "source": [
    "The date in the above file listing should show that you just created `Assignment.turnin.ipynb`\n",
    "\n",
    "**Step 3:**  Click on this link to open it: [./Assignment.turnin.ipynb](./Assignment.turnin.ipynb)\n",
    "\n",
    "\n",
    "**Step 4:**  Select \"Print\" from _your jupyterhub's_ \"file\" menu and select \"Save as PDF\".\n",
    "\n",
    "**Step 5:**  Make sure all your answers are visible and not cut off the side of the page.\n",
    "\n",
    "**Step 6:**  Turn in that PDF via gradescope."
   ]
  },
  {
   "cell_type": "markdown",
   "metadata": {
    "deleteable": false,
    "editable": false,
    "tags": []
   },
   "source": [
    "## The Programming Assignment\n",
    "\n",
    "You'll turn in your programming assignment by providing gradescope with your github repo.   It'll run the autograder and return the results."
   ]
  },
  {
   "cell_type": "markdown",
   "metadata": {
    "deleteable": false,
    "editable": false,
    "tags": []
   },
   "source": [
    "## Post-Assignment Survey\n",
    "\n",
    "Please fill out [this survey](https://forms.gle/MKVzUoqidC4Js7g9A) when you've finished the assignment.  You can only submit once.  Be sure to press \"submit\", your answers won't be saved in the notebook."
   ]
  },
  {
   "cell_type": "code",
   "execution_count": null,
   "metadata": {
    "deleteable": false,
    "editable": false,
    "init_cell": true,
    "tags": []
   },
   "outputs": [],
   "source": [
    "from IPython.display import IFrame    \n",
    "IFrame('https://forms.gle/MKVzUoqidC4Js7g9A', width=800, height=2000)\n"
   ]
  },
  {
   "cell_type": "code",
   "execution_count": null,
   "metadata": {},
   "outputs": [],
   "source": [
    "!git add Assignment.ipynb\n",
    "!git commit -m \"Assignment\"\n",
    "!git push"
   ]
  },
  {
   "cell_type": "markdown",
   "metadata": {
    "editable": false
   },
   "source": [
    "\n"
   ]
  }
 ],
 "metadata": {
  "kernelspec": {
   "display_name": "Python 3 (ipykernel)",
   "language": "python",
   "name": "python3"
  },
  "language_info": {
   "codemirror_mode": {
    "name": "ipython",
    "version": 3
   },
   "file_extension": ".py",
   "mimetype": "text/x-python",
   "name": "python",
   "nbconvert_exporter": "python",
   "pygments_lexer": "ipython3",
   "version": "3.8.10"
  },
  "toc": {
   "base_numbering": 1,
   "nav_menu": {},
   "number_sections": true,
   "sideBar": true,
   "skip_h1_title": false,
   "title_cell": "Table of Contents",
   "title_sidebar": "Contents",
   "toc_cell": false,
   "toc_position": {
    "height": "calc(100% - 180px)",
    "left": "10px",
    "top": "150px",
    "width": "347.188px"
   },
   "toc_section_display": true,
   "toc_window_display": true
  },
  "toc-autonumbering": true,
  "vscode": {
   "interpreter": {
    "hash": "610c699f0cd8c4f129acd9140687fff6866bed0eb8e82f249fc8848b827b628c"
   }
  },
  "widgets": {
   "application/vnd.jupyter.widget-state+json": {
    "state": {},
    "version_major": 2,
    "version_minor": 0
   }
  }
 },
 "nbformat": 4,
 "nbformat_minor": 4
}
